{
  "nbformat": 4,
  "nbformat_minor": 0,
  "metadata": {
    "colab": {
      "name": "Project2.ipynb",
      "provenance": [],
      "collapsed_sections": [],
      "include_colab_link": true
    },
    "kernelspec": {
      "name": "python3",
      "display_name": "Python 3"
    }
  },
  "cells": [
    {
      "cell_type": "markdown",
      "metadata": {
        "id": "view-in-github",
        "colab_type": "text"
      },
      "source": [
        "<a href=\"https://colab.research.google.com/github/cathyxinchangli/ATMS-597-SP-2020/blob/sarah/Project2.ipynb\" target=\"_parent\"><img src=\"https://colab.research.google.com/assets/colab-badge.svg\" alt=\"Open In Colab\"/></a>"
      ]
    },
    {
      "cell_type": "code",
      "metadata": {
        "id": "0evtjsXpiHG1",
        "colab_type": "code",
        "colab": {}
      },
      "source": [
        "# TBA \n",
        "# (I'm not very good with code documentation e.g. common practices etc. so any help is appreciated! - XL)\n",
        "\n",
        "\n",
        "import requests\n",
        "import pandas as pd\n",
        "\n",
        "def make_request(endpoint, payload=None):\n",
        "    \"\"\"\n",
        "    Make a request to a specific endpoint on the weather API\n",
        "    passing headers and optional payload.\n",
        "    \n",
        "    Parameters:\n",
        "        - endpoint: The endpoint of the API you want to \n",
        "                    make a GET request to.\n",
        "        - payload: A dictionary of data to pass along \n",
        "                   with the request.\n",
        "    \n",
        "    Returns:\n",
        "        Response object.\n",
        "    ---\n",
        "    S. Moline, 'Hands on Data Analysis with Pandas'\n",
        "    https://github.com/stefmolin/Hands-On-Data-Analysis-with-Pandas/blob/master/ch_04/0-weather_data_collection.ipynb\n",
        "    \"\"\"\n",
        "    return requests.get(\n",
        "        f'https://www.ncdc.noaa.gov/cdo-web/api/v2/{endpoint}',\n",
        "        headers={\n",
        "            'token': 'HfZphTTGbXckpmEuqevAXQZFRCTEJgkJ' # obtained by X. Li, 2/4/2020\n",
        "        },\n",
        "        params=payload\n",
        "    )\n"
      ],
      "execution_count": 0,
      "outputs": []
    },
    {
      "cell_type": "code",
      "metadata": {
        "id": "yfYABhOQpHPW",
        "colab_type": "code",
        "outputId": "650bd51d-15b1-45dc-e792-e1119471b970",
        "colab": {
          "base_uri": "https://localhost:8080/",
          "height": 204
        }
      },
      "source": [
        "# documentation of GHCN (Global Historical Climatology Network) – Daily Documentation: \n",
        "# https://www1.ncdc.noaa.gov/pub/data/cdo/documentation/GHCND_documentation.pdf\n",
        "\n",
        "# getting station information (not sure if this is necessary)\n",
        "!wget https://www1.ncdc.noaa.gov/pub/data/ghcn/daily/ghcnd-stations.txt"
      ],
      "execution_count": 0,
      "outputs": [
        {
          "output_type": "stream",
          "text": [
            "--2020-02-05 21:29:12--  https://www1.ncdc.noaa.gov/pub/data/ghcn/daily/ghcnd-stations.txt\n",
            "Resolving www1.ncdc.noaa.gov (www1.ncdc.noaa.gov)... 205.167.25.178, 205.167.25.171, 205.167.25.172, ...\n",
            "Connecting to www1.ncdc.noaa.gov (www1.ncdc.noaa.gov)|205.167.25.178|:443... connected.\n",
            "HTTP request sent, awaiting response... 200 OK\n",
            "Length: 9896966 (9.4M) [text/plain]\n",
            "Saving to: ‘ghcnd-stations.txt’\n",
            "\n",
            "ghcnd-stations.txt  100%[===================>]   9.44M  4.40MB/s    in 2.1s    \n",
            "\n",
            "2020-02-05 21:29:15 (4.40 MB/s) - ‘ghcnd-stations.txt’ saved [9896966/9896966]\n",
            "\n"
          ],
          "name": "stdout"
        }
      ]
    },
    {
      "cell_type": "code",
      "metadata": {
        "id": "qNK63xC1pQ32",
        "colab_type": "code",
        "outputId": "83cc52b7-64ed-453f-8408-7f7bb1f620e7",
        "colab": {
          "base_uri": "https://localhost:8080/",
          "height": 357
        }
      },
      "source": [
        "!head -20 ghcnd-stations.txt"
      ],
      "execution_count": 0,
      "outputs": [
        {
          "output_type": "stream",
          "text": [
            "ACW00011604  17.1167  -61.7833   10.1    ST JOHNS COOLIDGE FLD                       \n",
            "ACW00011647  17.1333  -61.7833   19.2    ST JOHNS                                    \n",
            "AE000041196  25.3330   55.5170   34.0    SHARJAH INTER. AIRP            GSN     41196\n",
            "AEM00041194  25.2550   55.3640   10.4    DUBAI INTL                             41194\n",
            "AEM00041217  24.4330   54.6510   26.8    ABU DHABI INTL                         41217\n",
            "AEM00041218  24.2620   55.6090  264.9    AL AIN INTL                            41218\n",
            "AF000040930  35.3170   69.0170 3366.0    NORTH-SALANG                   GSN     40930\n",
            "AFM00040938  34.2100   62.2280  977.2    HERAT                                  40938\n",
            "AFM00040948  34.5660   69.2120 1791.3    KABUL INTL                             40948\n",
            "AFM00040990  31.5000   65.8500 1010.0    KANDAHAR AIRPORT                       40990\n",
            "AG000060390  36.7167    3.2500   24.0    ALGER-DAR EL BEIDA             GSN     60390\n",
            "AG000060590  30.5667    2.8667  397.0    EL-GOLEA                       GSN     60590\n",
            "AG000060611  28.0500    9.6331  561.0    IN-AMENAS                      GSN     60611\n",
            "AG000060680  22.8000    5.4331 1362.0    TAMANRASSET                    GSN     60680\n",
            "AGE00135039  35.7297    0.6500   50.0    ORAN-HOPITAL MILITAIRE                      \n",
            "AGE00147704  36.9700    7.7900  161.0    ANNABA-CAP DE GARDE                         \n",
            "AGE00147705  36.7800    3.0700   59.0    ALGIERS-VILLE/UNIVERSITE                    \n",
            "AGE00147706  36.8000    3.0300  344.0    ALGIERS-BOUZAREAH                           \n",
            "AGE00147707  36.8000    3.0400   38.0    ALGIERS-CAP CAXINE                          \n",
            "AGE00147708  36.7200    4.0500  222.0    TIZI OUZOU                             60395\n"
          ],
          "name": "stdout"
        }
      ]
    },
    {
      "cell_type": "code",
      "metadata": {
        "id": "avKWw3C2plB_",
        "colab_type": "code",
        "outputId": "3d427ba3-c9a0-4af8-df64-be39d558be05",
        "colab": {
          "base_uri": "https://localhost:8080/",
          "height": 419
        }
      },
      "source": [
        "stations = pd.read_fwf('ghcnd-stations.txt',names=['ID','LAT [deg]','LON [deg]','ELV [m]','NAME','col5','col6','col7']) # I don't know what the last three columns are...\n",
        "stations"
      ],
      "execution_count": 0,
      "outputs": [
        {
          "output_type": "execute_result",
          "data": {
            "text/html": [
              "<div>\n",
              "<style scoped>\n",
              "    .dataframe tbody tr th:only-of-type {\n",
              "        vertical-align: middle;\n",
              "    }\n",
              "\n",
              "    .dataframe tbody tr th {\n",
              "        vertical-align: top;\n",
              "    }\n",
              "\n",
              "    .dataframe thead th {\n",
              "        text-align: right;\n",
              "    }\n",
              "</style>\n",
              "<table border=\"1\" class=\"dataframe\">\n",
              "  <thead>\n",
              "    <tr style=\"text-align: right;\">\n",
              "      <th></th>\n",
              "      <th>ID</th>\n",
              "      <th>LAT [deg]</th>\n",
              "      <th>LON [deg]</th>\n",
              "      <th>ELV [m]</th>\n",
              "      <th>NAME</th>\n",
              "      <th>col5</th>\n",
              "      <th>col6</th>\n",
              "      <th>col7</th>\n",
              "    </tr>\n",
              "  </thead>\n",
              "  <tbody>\n",
              "    <tr>\n",
              "      <th>0</th>\n",
              "      <td>ACW00011604</td>\n",
              "      <td>17.1167</td>\n",
              "      <td>-61.7833</td>\n",
              "      <td>10.1</td>\n",
              "      <td>ST JOHNS COOLIDGE FLD</td>\n",
              "      <td>NaN</td>\n",
              "      <td>NaN</td>\n",
              "      <td>NaN</td>\n",
              "    </tr>\n",
              "    <tr>\n",
              "      <th>1</th>\n",
              "      <td>ACW00011647</td>\n",
              "      <td>17.1333</td>\n",
              "      <td>-61.7833</td>\n",
              "      <td>19.2</td>\n",
              "      <td>ST JOHNS</td>\n",
              "      <td>NaN</td>\n",
              "      <td>NaN</td>\n",
              "      <td>NaN</td>\n",
              "    </tr>\n",
              "    <tr>\n",
              "      <th>2</th>\n",
              "      <td>AE000041196</td>\n",
              "      <td>25.3330</td>\n",
              "      <td>55.5170</td>\n",
              "      <td>34.0</td>\n",
              "      <td>SHARJAH INTER. AIRP</td>\n",
              "      <td>NaN</td>\n",
              "      <td>GSN</td>\n",
              "      <td>41196.0</td>\n",
              "    </tr>\n",
              "    <tr>\n",
              "      <th>3</th>\n",
              "      <td>AEM00041194</td>\n",
              "      <td>25.2550</td>\n",
              "      <td>55.3640</td>\n",
              "      <td>10.4</td>\n",
              "      <td>DUBAI INTL</td>\n",
              "      <td>NaN</td>\n",
              "      <td>NaN</td>\n",
              "      <td>41194.0</td>\n",
              "    </tr>\n",
              "    <tr>\n",
              "      <th>4</th>\n",
              "      <td>AEM00041217</td>\n",
              "      <td>24.4330</td>\n",
              "      <td>54.6510</td>\n",
              "      <td>26.8</td>\n",
              "      <td>ABU DHABI INTL</td>\n",
              "      <td>NaN</td>\n",
              "      <td>NaN</td>\n",
              "      <td>41217.0</td>\n",
              "    </tr>\n",
              "    <tr>\n",
              "      <th>...</th>\n",
              "      <td>...</td>\n",
              "      <td>...</td>\n",
              "      <td>...</td>\n",
              "      <td>...</td>\n",
              "      <td>...</td>\n",
              "      <td>...</td>\n",
              "      <td>...</td>\n",
              "      <td>...</td>\n",
              "    </tr>\n",
              "    <tr>\n",
              "      <th>115076</th>\n",
              "      <td>ZI000067969</td>\n",
              "      <td>21.0500</td>\n",
              "      <td>29.3670</td>\n",
              "      <td>861.0</td>\n",
              "      <td>WEST NICHOLSON</td>\n",
              "      <td>NaN</td>\n",
              "      <td>NaN</td>\n",
              "      <td>67969.0</td>\n",
              "    </tr>\n",
              "    <tr>\n",
              "      <th>115077</th>\n",
              "      <td>ZI000067975</td>\n",
              "      <td>20.0670</td>\n",
              "      <td>30.8670</td>\n",
              "      <td>1095.0</td>\n",
              "      <td>MASVINGO</td>\n",
              "      <td>NaN</td>\n",
              "      <td>NaN</td>\n",
              "      <td>67975.0</td>\n",
              "    </tr>\n",
              "    <tr>\n",
              "      <th>115078</th>\n",
              "      <td>ZI000067977</td>\n",
              "      <td>21.0170</td>\n",
              "      <td>31.5830</td>\n",
              "      <td>430.0</td>\n",
              "      <td>BUFFALO RANGE</td>\n",
              "      <td>NaN</td>\n",
              "      <td>NaN</td>\n",
              "      <td>67977.0</td>\n",
              "    </tr>\n",
              "    <tr>\n",
              "      <th>115079</th>\n",
              "      <td>ZI000067983</td>\n",
              "      <td>20.2000</td>\n",
              "      <td>32.6160</td>\n",
              "      <td>1132.0</td>\n",
              "      <td>CHIPINGE</td>\n",
              "      <td>NaN</td>\n",
              "      <td>GSN</td>\n",
              "      <td>67983.0</td>\n",
              "    </tr>\n",
              "    <tr>\n",
              "      <th>115080</th>\n",
              "      <td>ZI000067991</td>\n",
              "      <td>22.2170</td>\n",
              "      <td>30.0000</td>\n",
              "      <td>457.0</td>\n",
              "      <td>BEITBRIDGE</td>\n",
              "      <td>NaN</td>\n",
              "      <td>NaN</td>\n",
              "      <td>67991.0</td>\n",
              "    </tr>\n",
              "  </tbody>\n",
              "</table>\n",
              "<p>115081 rows × 8 columns</p>\n",
              "</div>"
            ],
            "text/plain": [
              "                 ID  LAT [deg]  LON [deg]  ...  col5 col6     col7\n",
              "0       ACW00011604    17.1167   -61.7833  ...   NaN  NaN      NaN\n",
              "1       ACW00011647    17.1333   -61.7833  ...   NaN  NaN      NaN\n",
              "2       AE000041196    25.3330    55.5170  ...   NaN  GSN  41196.0\n",
              "3       AEM00041194    25.2550    55.3640  ...   NaN  NaN  41194.0\n",
              "4       AEM00041217    24.4330    54.6510  ...   NaN  NaN  41217.0\n",
              "...             ...        ...        ...  ...   ...  ...      ...\n",
              "115076  ZI000067969    21.0500    29.3670  ...   NaN  NaN  67969.0\n",
              "115077  ZI000067975    20.0670    30.8670  ...   NaN  NaN  67975.0\n",
              "115078  ZI000067977    21.0170    31.5830  ...   NaN  NaN  67977.0\n",
              "115079  ZI000067983    20.2000    32.6160  ...   NaN  GSN  67983.0\n",
              "115080  ZI000067991    22.2170    30.0000  ...   NaN  NaN  67991.0\n",
              "\n",
              "[115081 rows x 8 columns]"
            ]
          },
          "metadata": {
            "tags": []
          },
          "execution_count": 4
        }
      ]
    },
    {
      "cell_type": "code",
      "metadata": {
        "id": "8tUYxEnss6Pc",
        "colab_type": "code",
        "outputId": "0a4c013a-634d-4947-c988-bd253365e351",
        "colab": {
          "base_uri": "https://localhost:8080/",
          "height": 170
        }
      },
      "source": [
        "stations['ELV [m]'].describe()"
      ],
      "execution_count": 0,
      "outputs": [
        {
          "output_type": "execute_result",
          "data": {
            "text/plain": [
              "count    115081.000000\n",
              "mean        447.756902\n",
              "std         667.260086\n",
              "min        -999.900000\n",
              "25%          80.000000\n",
              "50%         256.000000\n",
              "75%         610.000000\n",
              "max        5033.000000\n",
              "Name: ELV [m], dtype: float64"
            ]
          },
          "metadata": {
            "tags": []
          },
          "execution_count": 5
        }
      ]
    },
    {
      "cell_type": "code",
      "metadata": {
        "id": "OPQcrF-8vJ6T",
        "colab_type": "code",
        "outputId": "d5026ef1-3c7f-41f1-efc5-2c297d92bf63",
        "colab": {
          "base_uri": "https://localhost:8080/",
          "height": 545
        }
      },
      "source": [
        "stations[:][stations['ELV [m]'] > 4000]"
      ],
      "execution_count": 0,
      "outputs": [
        {
          "output_type": "execute_result",
          "data": {
            "text/html": [
              "<div>\n",
              "<style scoped>\n",
              "    .dataframe tbody tr th:only-of-type {\n",
              "        vertical-align: middle;\n",
              "    }\n",
              "\n",
              "    .dataframe tbody tr th {\n",
              "        vertical-align: top;\n",
              "    }\n",
              "\n",
              "    .dataframe thead th {\n",
              "        text-align: right;\n",
              "    }\n",
              "</style>\n",
              "<table border=\"1\" class=\"dataframe\">\n",
              "  <thead>\n",
              "    <tr style=\"text-align: right;\">\n",
              "      <th></th>\n",
              "      <th>ID</th>\n",
              "      <th>LAT [deg]</th>\n",
              "      <th>LON [deg]</th>\n",
              "      <th>ELV [m]</th>\n",
              "      <th>NAME</th>\n",
              "      <th>col5</th>\n",
              "      <th>col6</th>\n",
              "      <th>col7</th>\n",
              "    </tr>\n",
              "  </thead>\n",
              "  <tbody>\n",
              "    <tr>\n",
              "      <th>17498</th>\n",
              "      <td>AYM00089577</td>\n",
              "      <td>80.3700</td>\n",
              "      <td>77.3700</td>\n",
              "      <td>4084.0</td>\n",
              "      <td>DOME PLATEAU DOME A</td>\n",
              "      <td>NaN</td>\n",
              "      <td>GSN</td>\n",
              "      <td>89577.0</td>\n",
              "    </tr>\n",
              "    <tr>\n",
              "      <th>17651</th>\n",
              "      <td>BLM00085201</td>\n",
              "      <td>16.5130</td>\n",
              "      <td>-68.1920</td>\n",
              "      <td>4061.5</td>\n",
              "      <td>EL ALTO INTL</td>\n",
              "      <td>NaN</td>\n",
              "      <td>NaN</td>\n",
              "      <td>85201.0</td>\n",
              "    </tr>\n",
              "    <tr>\n",
              "      <th>32718</th>\n",
              "      <td>CHM00055228</td>\n",
              "      <td>32.5000</td>\n",
              "      <td>80.0830</td>\n",
              "      <td>4280.0</td>\n",
              "      <td>SHIQUANHE</td>\n",
              "      <td>NaN</td>\n",
              "      <td>NaN</td>\n",
              "      <td>55228.0</td>\n",
              "    </tr>\n",
              "    <tr>\n",
              "      <th>32719</th>\n",
              "      <td>CHM00055279</td>\n",
              "      <td>31.3670</td>\n",
              "      <td>90.0170</td>\n",
              "      <td>4701.0</td>\n",
              "      <td>BAINGOIN</td>\n",
              "      <td>NaN</td>\n",
              "      <td>NaN</td>\n",
              "      <td>55279.0</td>\n",
              "    </tr>\n",
              "    <tr>\n",
              "      <th>32720</th>\n",
              "      <td>CHM00055299</td>\n",
              "      <td>31.4830</td>\n",
              "      <td>92.0670</td>\n",
              "      <td>4508.0</td>\n",
              "      <td>NAGQU</td>\n",
              "      <td>NaN</td>\n",
              "      <td>NaN</td>\n",
              "      <td>55299.0</td>\n",
              "    </tr>\n",
              "    <tr>\n",
              "      <th>32721</th>\n",
              "      <td>CHM00055472</td>\n",
              "      <td>30.9500</td>\n",
              "      <td>88.6330</td>\n",
              "      <td>4670.0</td>\n",
              "      <td>XAINZA</td>\n",
              "      <td>NaN</td>\n",
              "      <td>NaN</td>\n",
              "      <td>55472.0</td>\n",
              "    </tr>\n",
              "    <tr>\n",
              "      <th>32724</th>\n",
              "      <td>CHM00056004</td>\n",
              "      <td>34.2170</td>\n",
              "      <td>92.4330</td>\n",
              "      <td>4535.0</td>\n",
              "      <td>TUOTUOHE</td>\n",
              "      <td>NaN</td>\n",
              "      <td>NaN</td>\n",
              "      <td>56004.0</td>\n",
              "    </tr>\n",
              "    <tr>\n",
              "      <th>32725</th>\n",
              "      <td>CHM00056021</td>\n",
              "      <td>34.1330</td>\n",
              "      <td>95.7830</td>\n",
              "      <td>4176.0</td>\n",
              "      <td>QUMARLEB</td>\n",
              "      <td>NaN</td>\n",
              "      <td>NaN</td>\n",
              "      <td>56021.0</td>\n",
              "    </tr>\n",
              "    <tr>\n",
              "      <th>32727</th>\n",
              "      <td>CHM00056033</td>\n",
              "      <td>34.9170</td>\n",
              "      <td>98.2170</td>\n",
              "      <td>4273.0</td>\n",
              "      <td>MADOI</td>\n",
              "      <td>NaN</td>\n",
              "      <td>NaN</td>\n",
              "      <td>56033.0</td>\n",
              "    </tr>\n",
              "    <tr>\n",
              "      <th>32732</th>\n",
              "      <td>CHM00056106</td>\n",
              "      <td>31.8830</td>\n",
              "      <td>93.7830</td>\n",
              "      <td>4024.0</td>\n",
              "      <td>SOG XIAN</td>\n",
              "      <td>NaN</td>\n",
              "      <td>NaN</td>\n",
              "      <td>56106.0</td>\n",
              "    </tr>\n",
              "    <tr>\n",
              "      <th>34232</th>\n",
              "      <td>GG000037334</td>\n",
              "      <td>42.7000</td>\n",
              "      <td>44.5170</td>\n",
              "      <td>5033.0</td>\n",
              "      <td>KAZBEK MOUNTAIN</td>\n",
              "      <td>NaN</td>\n",
              "      <td>NaN</td>\n",
              "      <td>37334.0</td>\n",
              "    </tr>\n",
              "    <tr>\n",
              "      <th>37005</th>\n",
              "      <td>IN008060400</td>\n",
              "      <td>34.4200</td>\n",
              "      <td>75.5800</td>\n",
              "      <td>4880.0</td>\n",
              "      <td>PENDRAS         OBSY</td>\n",
              "      <td>NaN</td>\n",
              "      <td>NaN</td>\n",
              "      <td>NaN</td>\n",
              "    </tr>\n",
              "    <tr>\n",
              "      <th>37006</th>\n",
              "      <td>IN008060401</td>\n",
              "      <td>34.2500</td>\n",
              "      <td>77.7500</td>\n",
              "      <td>4771.0</td>\n",
              "      <td>DIGAR           OBSY</td>\n",
              "      <td>NaN</td>\n",
              "      <td>NaN</td>\n",
              "      <td>NaN</td>\n",
              "    </tr>\n",
              "    <tr>\n",
              "      <th>42992</th>\n",
              "      <td>MXN00015062</td>\n",
              "      <td>19.1167</td>\n",
              "      <td>-99.7667</td>\n",
              "      <td>4282.7</td>\n",
              "      <td>NEVADO DE TOLUCA</td>\n",
              "      <td>NaN</td>\n",
              "      <td>NaN</td>\n",
              "      <td>NaN</td>\n",
              "    </tr>\n",
              "    <tr>\n",
              "      <th>51885</th>\n",
              "      <td>TI000038862</td>\n",
              "      <td>38.8300</td>\n",
              "      <td>72.2200</td>\n",
              "      <td>4169.0</td>\n",
              "      <td>LEDNIK PHEDCHENKO (IM. GO</td>\n",
              "      <td>BUN</td>\n",
              "      <td>NaN</td>\n",
              "      <td>38862.0</td>\n",
              "    </tr>\n",
              "    <tr>\n",
              "      <th>109964</th>\n",
              "      <td>USC00516183</td>\n",
              "      <td>19.8167</td>\n",
              "      <td>155.4667</td>\n",
              "      <td>4198.0</td>\n",
              "      <td>MAUNA KEA OBSY 111</td>\n",
              "      <td>NaN</td>\n",
              "      <td>NaN</td>\n",
              "      <td>NaN</td>\n",
              "    </tr>\n",
              "  </tbody>\n",
              "</table>\n",
              "</div>"
            ],
            "text/plain": [
              "                 ID  LAT [deg]  LON [deg]  ...  col5 col6     col7\n",
              "17498   AYM00089577    80.3700    77.3700  ...   NaN  GSN  89577.0\n",
              "17651   BLM00085201    16.5130   -68.1920  ...   NaN  NaN  85201.0\n",
              "32718   CHM00055228    32.5000    80.0830  ...   NaN  NaN  55228.0\n",
              "32719   CHM00055279    31.3670    90.0170  ...   NaN  NaN  55279.0\n",
              "32720   CHM00055299    31.4830    92.0670  ...   NaN  NaN  55299.0\n",
              "32721   CHM00055472    30.9500    88.6330  ...   NaN  NaN  55472.0\n",
              "32724   CHM00056004    34.2170    92.4330  ...   NaN  NaN  56004.0\n",
              "32725   CHM00056021    34.1330    95.7830  ...   NaN  NaN  56021.0\n",
              "32727   CHM00056033    34.9170    98.2170  ...   NaN  NaN  56033.0\n",
              "32732   CHM00056106    31.8830    93.7830  ...   NaN  NaN  56106.0\n",
              "34232   GG000037334    42.7000    44.5170  ...   NaN  NaN  37334.0\n",
              "37005   IN008060400    34.4200    75.5800  ...   NaN  NaN      NaN\n",
              "37006   IN008060401    34.2500    77.7500  ...   NaN  NaN      NaN\n",
              "42992   MXN00015062    19.1167   -99.7667  ...   NaN  NaN      NaN\n",
              "51885   TI000038862    38.8300    72.2200  ...   BUN  NaN  38862.0\n",
              "109964  USC00516183    19.8167   155.4667  ...   NaN  NaN      NaN\n",
              "\n",
              "[16 rows x 8 columns]"
            ]
          },
          "metadata": {
            "tags": []
          },
          "execution_count": 6
        }
      ]
    },
    {
      "cell_type": "code",
      "metadata": {
        "id": "T9vpivDzvvXg",
        "colab_type": "code",
        "colab": {}
      },
      "source": [
        ""
      ],
      "execution_count": 0,
      "outputs": []
    },
    {
      "cell_type": "markdown",
      "metadata": {
        "id": "1NXtNNaXRF5g",
        "colab_type": "text"
      },
      "source": [
        "## Collect All Datapoints\n",
        "I believe we have to go through a ton of years correct?\n"
      ]
    },
    {
      "cell_type": "code",
      "metadata": {
        "id": "GoOki31URN_o",
        "colab_type": "code",
        "outputId": "ccb6ec1f-c7c2-4c63-f0fe-e68e1a553e5d",
        "colab": {
          "base_uri": "https://localhost:8080/",
          "height": 392
        }
      },
      "source": [
        "import datetime\n",
        "\n",
        "from IPython import display # for updating the cell dynamically\n",
        "\n",
        "current = datetime.date(1998, 1, 1)\n",
        "end = datetime.date(2019, 1, 1)\n",
        "\n",
        "results = []\n",
        "\n",
        "while current < end:\n",
        "    # update the cell with status information\n",
        "    display.clear_output(wait=True)\n",
        "    display.display(f'Gathering data for {str(current)}')\n",
        "    \n",
        "    response = make_request(\n",
        "        'data', \n",
        "        {\n",
        "            'datasetid' : 'GHCND', # Global Historical Climatology Network - Daily (GHCND) dataset\n",
        "            'locationid' : 'CITY:US360019', # NYC\n",
        "            'startdate' : current,\n",
        "            'enddate' : current,\n",
        "            'units' : 'metric',\n",
        "            'limit' : 1000 # max allowed\n",
        "        }\n",
        "    )\n",
        "\n",
        "    if response.ok:\n",
        "        # we extend the list instead of appending to avoid getting a nested list\n",
        "        results.extend(response.json()['results'])\n",
        "\n",
        "    # update the current date to avoid an infinite loop\n",
        "    current += datetime.timedelta(days=1)"
      ],
      "execution_count": 0,
      "outputs": [
        {
          "output_type": "display_data",
          "data": {
            "text/plain": [
              "'Gathering data for 1998-09-12'"
            ]
          },
          "metadata": {
            "tags": []
          }
        },
        {
          "output_type": "error",
          "ename": "KeyboardInterrupt",
          "evalue": "ignored",
          "traceback": [
            "\u001b[0;31m---------------------------------------------------------------------------\u001b[0m",
            "\u001b[0;31mKeyboardInterrupt\u001b[0m                         Traceback (most recent call last)",
            "\u001b[0;32m<ipython-input-7-33a7386c22a1>\u001b[0m in \u001b[0;36m<module>\u001b[0;34m()\u001b[0m\n\u001b[1;32m     21\u001b[0m             \u001b[0;34m'enddate'\u001b[0m \u001b[0;34m:\u001b[0m \u001b[0mcurrent\u001b[0m\u001b[0;34m,\u001b[0m\u001b[0;34m\u001b[0m\u001b[0;34m\u001b[0m\u001b[0m\n\u001b[1;32m     22\u001b[0m             \u001b[0;34m'units'\u001b[0m \u001b[0;34m:\u001b[0m \u001b[0;34m'metric'\u001b[0m\u001b[0;34m,\u001b[0m\u001b[0;34m\u001b[0m\u001b[0;34m\u001b[0m\u001b[0m\n\u001b[0;32m---> 23\u001b[0;31m             \u001b[0;34m'limit'\u001b[0m \u001b[0;34m:\u001b[0m \u001b[0;36m1000\u001b[0m \u001b[0;31m# max allowed\u001b[0m\u001b[0;34m\u001b[0m\u001b[0;34m\u001b[0m\u001b[0m\n\u001b[0m\u001b[1;32m     24\u001b[0m         }\n\u001b[1;32m     25\u001b[0m     )\n",
            "\u001b[0;32m<ipython-input-1-c4c923cd33b7>\u001b[0m in \u001b[0;36mmake_request\u001b[0;34m(endpoint, payload)\u001b[0m\n\u001b[1;32m     26\u001b[0m             \u001b[0;34m'token'\u001b[0m\u001b[0;34m:\u001b[0m \u001b[0;34m'HfZphTTGbXckpmEuqevAXQZFRCTEJgkJ'\u001b[0m \u001b[0;31m# obtained by X. Li, 2/4/2020\u001b[0m\u001b[0;34m\u001b[0m\u001b[0;34m\u001b[0m\u001b[0m\n\u001b[1;32m     27\u001b[0m         },\n\u001b[0;32m---> 28\u001b[0;31m         \u001b[0mparams\u001b[0m\u001b[0;34m=\u001b[0m\u001b[0mpayload\u001b[0m\u001b[0;34m\u001b[0m\u001b[0;34m\u001b[0m\u001b[0m\n\u001b[0m\u001b[1;32m     29\u001b[0m     )\n",
            "\u001b[0;32m/usr/local/lib/python3.6/dist-packages/requests/api.py\u001b[0m in \u001b[0;36mget\u001b[0;34m(url, params, **kwargs)\u001b[0m\n\u001b[1;32m     73\u001b[0m \u001b[0;34m\u001b[0m\u001b[0m\n\u001b[1;32m     74\u001b[0m     \u001b[0mkwargs\u001b[0m\u001b[0;34m.\u001b[0m\u001b[0msetdefault\u001b[0m\u001b[0;34m(\u001b[0m\u001b[0;34m'allow_redirects'\u001b[0m\u001b[0;34m,\u001b[0m \u001b[0;32mTrue\u001b[0m\u001b[0;34m)\u001b[0m\u001b[0;34m\u001b[0m\u001b[0;34m\u001b[0m\u001b[0m\n\u001b[0;32m---> 75\u001b[0;31m     \u001b[0;32mreturn\u001b[0m \u001b[0mrequest\u001b[0m\u001b[0;34m(\u001b[0m\u001b[0;34m'get'\u001b[0m\u001b[0;34m,\u001b[0m \u001b[0murl\u001b[0m\u001b[0;34m,\u001b[0m \u001b[0mparams\u001b[0m\u001b[0;34m=\u001b[0m\u001b[0mparams\u001b[0m\u001b[0;34m,\u001b[0m \u001b[0;34m**\u001b[0m\u001b[0mkwargs\u001b[0m\u001b[0;34m)\u001b[0m\u001b[0;34m\u001b[0m\u001b[0;34m\u001b[0m\u001b[0m\n\u001b[0m\u001b[1;32m     76\u001b[0m \u001b[0;34m\u001b[0m\u001b[0m\n\u001b[1;32m     77\u001b[0m \u001b[0;34m\u001b[0m\u001b[0m\n",
            "\u001b[0;32m/usr/local/lib/python3.6/dist-packages/requests/api.py\u001b[0m in \u001b[0;36mrequest\u001b[0;34m(method, url, **kwargs)\u001b[0m\n\u001b[1;32m     58\u001b[0m     \u001b[0;31m# cases, and look like a memory leak in others.\u001b[0m\u001b[0;34m\u001b[0m\u001b[0;34m\u001b[0m\u001b[0;34m\u001b[0m\u001b[0m\n\u001b[1;32m     59\u001b[0m     \u001b[0;32mwith\u001b[0m \u001b[0msessions\u001b[0m\u001b[0;34m.\u001b[0m\u001b[0mSession\u001b[0m\u001b[0;34m(\u001b[0m\u001b[0;34m)\u001b[0m \u001b[0;32mas\u001b[0m \u001b[0msession\u001b[0m\u001b[0;34m:\u001b[0m\u001b[0;34m\u001b[0m\u001b[0;34m\u001b[0m\u001b[0m\n\u001b[0;32m---> 60\u001b[0;31m         \u001b[0;32mreturn\u001b[0m \u001b[0msession\u001b[0m\u001b[0;34m.\u001b[0m\u001b[0mrequest\u001b[0m\u001b[0;34m(\u001b[0m\u001b[0mmethod\u001b[0m\u001b[0;34m=\u001b[0m\u001b[0mmethod\u001b[0m\u001b[0;34m,\u001b[0m \u001b[0murl\u001b[0m\u001b[0;34m=\u001b[0m\u001b[0murl\u001b[0m\u001b[0;34m,\u001b[0m \u001b[0;34m**\u001b[0m\u001b[0mkwargs\u001b[0m\u001b[0;34m)\u001b[0m\u001b[0;34m\u001b[0m\u001b[0;34m\u001b[0m\u001b[0m\n\u001b[0m\u001b[1;32m     61\u001b[0m \u001b[0;34m\u001b[0m\u001b[0m\n\u001b[1;32m     62\u001b[0m \u001b[0;34m\u001b[0m\u001b[0m\n",
            "\u001b[0;32m/usr/local/lib/python3.6/dist-packages/requests/sessions.py\u001b[0m in \u001b[0;36mrequest\u001b[0;34m(self, method, url, params, data, headers, cookies, files, auth, timeout, allow_redirects, proxies, hooks, stream, verify, cert, json)\u001b[0m\n\u001b[1;32m    531\u001b[0m         }\n\u001b[1;32m    532\u001b[0m         \u001b[0msend_kwargs\u001b[0m\u001b[0;34m.\u001b[0m\u001b[0mupdate\u001b[0m\u001b[0;34m(\u001b[0m\u001b[0msettings\u001b[0m\u001b[0;34m)\u001b[0m\u001b[0;34m\u001b[0m\u001b[0;34m\u001b[0m\u001b[0m\n\u001b[0;32m--> 533\u001b[0;31m         \u001b[0mresp\u001b[0m \u001b[0;34m=\u001b[0m \u001b[0mself\u001b[0m\u001b[0;34m.\u001b[0m\u001b[0msend\u001b[0m\u001b[0;34m(\u001b[0m\u001b[0mprep\u001b[0m\u001b[0;34m,\u001b[0m \u001b[0;34m**\u001b[0m\u001b[0msend_kwargs\u001b[0m\u001b[0;34m)\u001b[0m\u001b[0;34m\u001b[0m\u001b[0;34m\u001b[0m\u001b[0m\n\u001b[0m\u001b[1;32m    534\u001b[0m \u001b[0;34m\u001b[0m\u001b[0m\n\u001b[1;32m    535\u001b[0m         \u001b[0;32mreturn\u001b[0m \u001b[0mresp\u001b[0m\u001b[0;34m\u001b[0m\u001b[0;34m\u001b[0m\u001b[0m\n",
            "\u001b[0;32m/usr/local/lib/python3.6/dist-packages/requests/sessions.py\u001b[0m in \u001b[0;36msend\u001b[0;34m(self, request, **kwargs)\u001b[0m\n\u001b[1;32m    644\u001b[0m \u001b[0;34m\u001b[0m\u001b[0m\n\u001b[1;32m    645\u001b[0m         \u001b[0;31m# Send the request\u001b[0m\u001b[0;34m\u001b[0m\u001b[0;34m\u001b[0m\u001b[0;34m\u001b[0m\u001b[0m\n\u001b[0;32m--> 646\u001b[0;31m         \u001b[0mr\u001b[0m \u001b[0;34m=\u001b[0m \u001b[0madapter\u001b[0m\u001b[0;34m.\u001b[0m\u001b[0msend\u001b[0m\u001b[0;34m(\u001b[0m\u001b[0mrequest\u001b[0m\u001b[0;34m,\u001b[0m \u001b[0;34m**\u001b[0m\u001b[0mkwargs\u001b[0m\u001b[0;34m)\u001b[0m\u001b[0;34m\u001b[0m\u001b[0;34m\u001b[0m\u001b[0m\n\u001b[0m\u001b[1;32m    647\u001b[0m \u001b[0;34m\u001b[0m\u001b[0m\n\u001b[1;32m    648\u001b[0m         \u001b[0;31m# Total elapsed time of the request (approximately)\u001b[0m\u001b[0;34m\u001b[0m\u001b[0;34m\u001b[0m\u001b[0;34m\u001b[0m\u001b[0m\n",
            "\u001b[0;32m/usr/local/lib/python3.6/dist-packages/requests/adapters.py\u001b[0m in \u001b[0;36msend\u001b[0;34m(self, request, stream, timeout, verify, cert, proxies)\u001b[0m\n\u001b[1;32m    447\u001b[0m                     \u001b[0mdecode_content\u001b[0m\u001b[0;34m=\u001b[0m\u001b[0;32mFalse\u001b[0m\u001b[0;34m,\u001b[0m\u001b[0;34m\u001b[0m\u001b[0;34m\u001b[0m\u001b[0m\n\u001b[1;32m    448\u001b[0m                     \u001b[0mretries\u001b[0m\u001b[0;34m=\u001b[0m\u001b[0mself\u001b[0m\u001b[0;34m.\u001b[0m\u001b[0mmax_retries\u001b[0m\u001b[0;34m,\u001b[0m\u001b[0;34m\u001b[0m\u001b[0;34m\u001b[0m\u001b[0m\n\u001b[0;32m--> 449\u001b[0;31m                     \u001b[0mtimeout\u001b[0m\u001b[0;34m=\u001b[0m\u001b[0mtimeout\u001b[0m\u001b[0;34m\u001b[0m\u001b[0;34m\u001b[0m\u001b[0m\n\u001b[0m\u001b[1;32m    450\u001b[0m                 )\n\u001b[1;32m    451\u001b[0m \u001b[0;34m\u001b[0m\u001b[0m\n",
            "\u001b[0;32m/usr/local/lib/python3.6/dist-packages/urllib3/connectionpool.py\u001b[0m in \u001b[0;36murlopen\u001b[0;34m(self, method, url, body, headers, retries, redirect, assert_same_host, timeout, pool_timeout, release_conn, chunked, body_pos, **response_kw)\u001b[0m\n\u001b[1;32m    598\u001b[0m                                                   \u001b[0mtimeout\u001b[0m\u001b[0;34m=\u001b[0m\u001b[0mtimeout_obj\u001b[0m\u001b[0;34m,\u001b[0m\u001b[0;34m\u001b[0m\u001b[0;34m\u001b[0m\u001b[0m\n\u001b[1;32m    599\u001b[0m                                                   \u001b[0mbody\u001b[0m\u001b[0;34m=\u001b[0m\u001b[0mbody\u001b[0m\u001b[0;34m,\u001b[0m \u001b[0mheaders\u001b[0m\u001b[0;34m=\u001b[0m\u001b[0mheaders\u001b[0m\u001b[0;34m,\u001b[0m\u001b[0;34m\u001b[0m\u001b[0;34m\u001b[0m\u001b[0m\n\u001b[0;32m--> 600\u001b[0;31m                                                   chunked=chunked)\n\u001b[0m\u001b[1;32m    601\u001b[0m \u001b[0;34m\u001b[0m\u001b[0m\n\u001b[1;32m    602\u001b[0m             \u001b[0;31m# If we're going to release the connection in ``finally:``, then\u001b[0m\u001b[0;34m\u001b[0m\u001b[0;34m\u001b[0m\u001b[0;34m\u001b[0m\u001b[0m\n",
            "\u001b[0;32m/usr/local/lib/python3.6/dist-packages/urllib3/connectionpool.py\u001b[0m in \u001b[0;36m_make_request\u001b[0;34m(self, conn, method, url, timeout, chunked, **httplib_request_kw)\u001b[0m\n\u001b[1;32m    341\u001b[0m         \u001b[0;31m# Trigger any extra validation we need to do.\u001b[0m\u001b[0;34m\u001b[0m\u001b[0;34m\u001b[0m\u001b[0;34m\u001b[0m\u001b[0m\n\u001b[1;32m    342\u001b[0m         \u001b[0;32mtry\u001b[0m\u001b[0;34m:\u001b[0m\u001b[0;34m\u001b[0m\u001b[0;34m\u001b[0m\u001b[0m\n\u001b[0;32m--> 343\u001b[0;31m             \u001b[0mself\u001b[0m\u001b[0;34m.\u001b[0m\u001b[0m_validate_conn\u001b[0m\u001b[0;34m(\u001b[0m\u001b[0mconn\u001b[0m\u001b[0;34m)\u001b[0m\u001b[0;34m\u001b[0m\u001b[0;34m\u001b[0m\u001b[0m\n\u001b[0m\u001b[1;32m    344\u001b[0m         \u001b[0;32mexcept\u001b[0m \u001b[0;34m(\u001b[0m\u001b[0mSocketTimeout\u001b[0m\u001b[0;34m,\u001b[0m \u001b[0mBaseSSLError\u001b[0m\u001b[0;34m)\u001b[0m \u001b[0;32mas\u001b[0m \u001b[0me\u001b[0m\u001b[0;34m:\u001b[0m\u001b[0;34m\u001b[0m\u001b[0;34m\u001b[0m\u001b[0m\n\u001b[1;32m    345\u001b[0m             \u001b[0;31m# Py2 raises this as a BaseSSLError, Py3 raises it as socket timeout.\u001b[0m\u001b[0;34m\u001b[0m\u001b[0;34m\u001b[0m\u001b[0;34m\u001b[0m\u001b[0m\n",
            "\u001b[0;32m/usr/local/lib/python3.6/dist-packages/urllib3/connectionpool.py\u001b[0m in \u001b[0;36m_validate_conn\u001b[0;34m(self, conn)\u001b[0m\n\u001b[1;32m    837\u001b[0m         \u001b[0;31m# Force connect early to allow us to validate the connection.\u001b[0m\u001b[0;34m\u001b[0m\u001b[0;34m\u001b[0m\u001b[0;34m\u001b[0m\u001b[0m\n\u001b[1;32m    838\u001b[0m         \u001b[0;32mif\u001b[0m \u001b[0;32mnot\u001b[0m \u001b[0mgetattr\u001b[0m\u001b[0;34m(\u001b[0m\u001b[0mconn\u001b[0m\u001b[0;34m,\u001b[0m \u001b[0;34m'sock'\u001b[0m\u001b[0;34m,\u001b[0m \u001b[0;32mNone\u001b[0m\u001b[0;34m)\u001b[0m\u001b[0;34m:\u001b[0m  \u001b[0;31m# AppEngine might not have  `.sock`\u001b[0m\u001b[0;34m\u001b[0m\u001b[0;34m\u001b[0m\u001b[0m\n\u001b[0;32m--> 839\u001b[0;31m             \u001b[0mconn\u001b[0m\u001b[0;34m.\u001b[0m\u001b[0mconnect\u001b[0m\u001b[0;34m(\u001b[0m\u001b[0;34m)\u001b[0m\u001b[0;34m\u001b[0m\u001b[0;34m\u001b[0m\u001b[0m\n\u001b[0m\u001b[1;32m    840\u001b[0m \u001b[0;34m\u001b[0m\u001b[0m\n\u001b[1;32m    841\u001b[0m         \u001b[0;32mif\u001b[0m \u001b[0;32mnot\u001b[0m \u001b[0mconn\u001b[0m\u001b[0;34m.\u001b[0m\u001b[0mis_verified\u001b[0m\u001b[0;34m:\u001b[0m\u001b[0;34m\u001b[0m\u001b[0;34m\u001b[0m\u001b[0m\n",
            "\u001b[0;32m/usr/local/lib/python3.6/dist-packages/urllib3/connection.py\u001b[0m in \u001b[0;36mconnect\u001b[0;34m(self)\u001b[0m\n\u001b[1;32m    299\u001b[0m     \u001b[0;32mdef\u001b[0m \u001b[0mconnect\u001b[0m\u001b[0;34m(\u001b[0m\u001b[0mself\u001b[0m\u001b[0;34m)\u001b[0m\u001b[0;34m:\u001b[0m\u001b[0;34m\u001b[0m\u001b[0;34m\u001b[0m\u001b[0m\n\u001b[1;32m    300\u001b[0m         \u001b[0;31m# Add certificate verification\u001b[0m\u001b[0;34m\u001b[0m\u001b[0;34m\u001b[0m\u001b[0;34m\u001b[0m\u001b[0m\n\u001b[0;32m--> 301\u001b[0;31m         \u001b[0mconn\u001b[0m \u001b[0;34m=\u001b[0m \u001b[0mself\u001b[0m\u001b[0;34m.\u001b[0m\u001b[0m_new_conn\u001b[0m\u001b[0;34m(\u001b[0m\u001b[0;34m)\u001b[0m\u001b[0;34m\u001b[0m\u001b[0;34m\u001b[0m\u001b[0m\n\u001b[0m\u001b[1;32m    302\u001b[0m         \u001b[0mhostname\u001b[0m \u001b[0;34m=\u001b[0m \u001b[0mself\u001b[0m\u001b[0;34m.\u001b[0m\u001b[0mhost\u001b[0m\u001b[0;34m\u001b[0m\u001b[0;34m\u001b[0m\u001b[0m\n\u001b[1;32m    303\u001b[0m \u001b[0;34m\u001b[0m\u001b[0m\n",
            "\u001b[0;32m/usr/local/lib/python3.6/dist-packages/urllib3/connection.py\u001b[0m in \u001b[0;36m_new_conn\u001b[0;34m(self)\u001b[0m\n\u001b[1;32m    157\u001b[0m         \u001b[0;32mtry\u001b[0m\u001b[0;34m:\u001b[0m\u001b[0;34m\u001b[0m\u001b[0;34m\u001b[0m\u001b[0m\n\u001b[1;32m    158\u001b[0m             conn = connection.create_connection(\n\u001b[0;32m--> 159\u001b[0;31m                 (self._dns_host, self.port), self.timeout, **extra_kw)\n\u001b[0m\u001b[1;32m    160\u001b[0m \u001b[0;34m\u001b[0m\u001b[0m\n\u001b[1;32m    161\u001b[0m         \u001b[0;32mexcept\u001b[0m \u001b[0mSocketTimeout\u001b[0m\u001b[0;34m:\u001b[0m\u001b[0;34m\u001b[0m\u001b[0;34m\u001b[0m\u001b[0m\n",
            "\u001b[0;32m/usr/local/lib/python3.6/dist-packages/urllib3/util/connection.py\u001b[0m in \u001b[0;36mcreate_connection\u001b[0;34m(address, timeout, source_address, socket_options)\u001b[0m\n\u001b[1;32m     68\u001b[0m             \u001b[0;32mif\u001b[0m \u001b[0msource_address\u001b[0m\u001b[0;34m:\u001b[0m\u001b[0;34m\u001b[0m\u001b[0;34m\u001b[0m\u001b[0m\n\u001b[1;32m     69\u001b[0m                 \u001b[0msock\u001b[0m\u001b[0;34m.\u001b[0m\u001b[0mbind\u001b[0m\u001b[0;34m(\u001b[0m\u001b[0msource_address\u001b[0m\u001b[0;34m)\u001b[0m\u001b[0;34m\u001b[0m\u001b[0;34m\u001b[0m\u001b[0m\n\u001b[0;32m---> 70\u001b[0;31m             \u001b[0msock\u001b[0m\u001b[0;34m.\u001b[0m\u001b[0mconnect\u001b[0m\u001b[0;34m(\u001b[0m\u001b[0msa\u001b[0m\u001b[0;34m)\u001b[0m\u001b[0;34m\u001b[0m\u001b[0;34m\u001b[0m\u001b[0m\n\u001b[0m\u001b[1;32m     71\u001b[0m             \u001b[0;32mreturn\u001b[0m \u001b[0msock\u001b[0m\u001b[0;34m\u001b[0m\u001b[0;34m\u001b[0m\u001b[0m\n\u001b[1;32m     72\u001b[0m \u001b[0;34m\u001b[0m\u001b[0m\n",
            "\u001b[0;31mKeyboardInterrupt\u001b[0m: "
          ]
        }
      ]
    },
    {
      "cell_type": "code",
      "metadata": {
        "id": "r4zjOvfzVC7D",
        "colab_type": "code",
        "outputId": "30f2e594-d089-4277-c226-b4f5f15aff0c",
        "colab": {
          "base_uri": "https://localhost:8080/",
          "height": 119
        }
      },
      "source": [
        ""
      ],
      "execution_count": 0,
      "outputs": [
        {
          "output_type": "stream",
          "text": [
            "--2020-02-05 22:02:30--  https://www.ncdc.noaa.gov/cdo-web/api/v2/locations?locationcategoryid=CITY\n",
            "Resolving www.ncdc.noaa.gov (www.ncdc.noaa.gov)... 205.167.25.177, 205.167.25.178, 205.167.25.171, ...\n",
            "Connecting to www.ncdc.noaa.gov (www.ncdc.noaa.gov)|205.167.25.177|:443... connected.\n",
            "HTTP request sent, awaiting response... 400 Bad Request\n",
            "2020-02-05 22:02:31 ERROR 400: Bad Request.\n",
            "\n"
          ],
          "name": "stdout"
        }
      ]
    },
    {
      "cell_type": "code",
      "metadata": {
        "id": "6-qme5sgYDN0",
        "colab_type": "code",
        "colab": {}
      },
      "source": [
        ""
      ],
      "execution_count": 0,
      "outputs": []
    }
  ]
}