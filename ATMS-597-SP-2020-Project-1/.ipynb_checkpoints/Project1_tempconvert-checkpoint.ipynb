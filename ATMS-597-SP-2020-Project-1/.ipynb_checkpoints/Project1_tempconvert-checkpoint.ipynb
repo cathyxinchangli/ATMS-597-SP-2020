{
 "cells": [
  {
   "cell_type": "code",
   "execution_count": 1,
   "metadata": {},
   "outputs": [],
   "source": [
    "import numpy as np"
   ]
  },
  {
   "cell_type": "code",
   "execution_count": 2,
   "metadata": {},
   "outputs": [],
   "source": [
    "class tempconvert():\n",
    "    '''\n",
    "    A python module that converts temperatures interchangeably between degrees \n",
    "    Celsius, Fahrenheit, and Kelvin.\n",
    "    '''\n",
    "    \n",
    "    def __init__(self, temp, regularized = True):\n",
    "        # Record the type and data type of temperatures\n",
    "        self.type = type(temp)\n",
    "        self.dtype = type(temp[0])\n",
    "        self.temp = np.array(temp)\n",
    "        # With the constraint of absolute zero as default\n",
    "        self.regularized = regularized\n",
    "    \n",
    "    # Convert Celsius to Fahrenheit\n",
    "    def C2F(self):\n",
    "        self.temp = self.temp * 9 / 5 + 32.\n",
    "        if self.regularized == True:\n",
    "            self.temp = np.clip(self.temp, -459.67, None)\n",
    "        return self.output()\n",
    "    \n",
    "    # Convert Fahrenheit to Celsius\n",
    "    def F2C(self):\n",
    "        self.temp = (self.temp - 32.) * 5 / 9\n",
    "        if self.regularized == True:\n",
    "            self.temp = np.clip(self.temp, -273.15, None)\n",
    "        return self.output()\n",
    "    \n",
    "    # Convert Celsius to Kelvin\n",
    "    def C2K(self):\n",
    "        self.temp = self.temp + 273.15\n",
    "        if self.regularized == True:\n",
    "            self.temp = np.clip(self.temp, 0., None)\n",
    "        return self.output()\n",
    "    \n",
    "    # Convert Kelvin to Celsius\n",
    "    def K2C(self):\n",
    "        self.temp = self.temp - 273.15\n",
    "        if self.regularized == True:\n",
    "            self.temp = np.clip(self.temp, -273.15, None)\n",
    "        return self.output()\n",
    "    \n",
    "    # Convert Fahrenheit to Kelvin\n",
    "    def F2K(self):\n",
    "        self.F2C()\n",
    "        self.C2K()\n",
    "        return self.output()\n",
    "    \n",
    "    # Convert Kelvin to Fahrenheit\n",
    "    def K2F(self):\n",
    "        self.K2C()\n",
    "        self.C2F()\n",
    "        return self.output()\n",
    "    \n",
    "    # Output the origional data type\n",
    "    def output(self):\n",
    "        self.temp = np.array(self.temp, dtype = self.dtype)\n",
    "        if self.type == list:\n",
    "            return self.temp.tolist()\n",
    "        else:\n",
    "            return self.temp"
   ]
  },
  {
   "cell_type": "code",
   "execution_count": 4,
   "metadata": {},
   "outputs": [
    {
     "data": {
      "text/plain": [
       "[-459]"
      ]
     },
     "metadata": {},
     "output_type": "display_data"
    },
    {
     "data": {
      "text/plain": [
       "array([0., 3.])"
      ]
     },
     "metadata": {},
     "output_type": "display_data"
    },
    {
     "data": {
      "text/plain": [
       "numpy.ndarray"
      ]
     },
     "metadata": {},
     "output_type": "display_data"
    },
    {
     "data": {
      "text/plain": [
       "numpy.float64"
      ]
     },
     "metadata": {},
     "output_type": "display_data"
    },
    {
     "data": {
      "text/plain": [
       "array([-459.67, -454.27])"
      ]
     },
     "metadata": {},
     "output_type": "display_data"
    },
    {
     "data": {
      "text/plain": [
       "numpy.ndarray"
      ]
     },
     "metadata": {},
     "output_type": "display_data"
    },
    {
     "data": {
      "text/plain": [
       "numpy.float64"
      ]
     },
     "metadata": {},
     "output_type": "display_data"
    }
   ],
   "source": [
    "input_temp = np.array([0., 3.], dtype = np.float64)\n",
    "display(tempconvert([0]).K2F())\n",
    "result = tempconvert(input_temp).K2F()\n",
    "display(input_temp, type(input_temp), type(input_temp[0]), result, type(result), type(result[0]))"
   ]
  },
  {
   "cell_type": "code",
   "execution_count": null,
   "metadata": {},
   "outputs": [],
   "source": []
  }
 ],
 "metadata": {
  "kernelspec": {
   "display_name": "Python [conda env:gpu] *",
   "language": "python",
   "name": "conda-env-gpu-py"
  },
  "language_info": {
   "codemirror_mode": {
    "name": "ipython",
    "version": 3
   },
   "file_extension": ".py",
   "mimetype": "text/x-python",
   "name": "python",
   "nbconvert_exporter": "python",
   "pygments_lexer": "ipython3",
   "version": "3.7.6"
  }
 },
 "nbformat": 4,
 "nbformat_minor": 2
}
