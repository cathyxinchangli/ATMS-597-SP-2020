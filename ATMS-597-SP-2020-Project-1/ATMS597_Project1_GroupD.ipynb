{
  "nbformat": 4,
  "nbformat_minor": 0,
  "metadata": {
    "colab": {
      "name": "ATMS597_Project1_GroupD.ipynb",
      "provenance": []
    },
    "kernelspec": {
      "name": "python3",
      "display_name": "Python 3"
    }
  },
  "cells": [
    {
      "cell_type": "markdown",
      "metadata": {
        "id": "t3F0ubciQqCT",
        "colab_type": "text"
      },
      "source": [
        "Task: Create an object-oriented python module that converts temperatures interchangeably between degrees Celsius, Fahrenheit, and Kelvin.\n"
      ]
    },
    {
      "cell_type": "code",
      "metadata": {
        "id": "k7QyzlEVQeyH",
        "colab_type": "code",
        "colab": {}
      },
      "source": [
        "# Temperature conversions including C2F, C2K, F2C, F2K, K2C, K2F.\n",
        "import numpy as np\n",
        "\n",
        "# Convert a user provided temperature from Celcius to Fahrenheit.\n",
        "def C2F(temp_c):\n",
        "  return np.array(temp_c)*1.8+32\n",
        "\n",
        "# Convert a user provided temperature from Celcius to Kelvin.\n",
        "def C2K(temp_c):\n",
        "  return np.array(temp_c)+273.15\n",
        "\n",
        "# Convert a user provided temperature from Fahrenheit to Celcius.\n",
        "def F2C(temp_f):\n",
        "  return (np.array(temp_f)-32)/1.8\n",
        "\n",
        "# Convert a user provided temperature from Fahrenheit to Kelvin.\n",
        "def F2K(temp_f):\n",
        "  return (np.array(temp_f)-32)/1.8+273.15\n",
        "\n",
        "# Convert a user provided temperature from Kelvin to Celcius.\n",
        "def K2C(temp_k):\n",
        "  return np.array(temp_k)-273.15\n",
        "\n",
        "# Convert a user provided temperature from kelvin to Fahrenheit.\n",
        "def K2F(temp_k):\n",
        "  return (np.array(temp_k)-273.15)*1.8+32\n"
      ],
      "execution_count": 0,
      "outputs": []
    },
    {
      "cell_type": "code",
      "metadata": {
        "id": "hiqqVrtgSJyO",
        "colab_type": "code",
        "colab": {}
      },
      "source": [
        ""
      ],
      "execution_count": 0,
      "outputs": []
    }
  ]
}