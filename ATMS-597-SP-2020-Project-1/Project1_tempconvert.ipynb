{
 "cells": [
  {
   "cell_type": "code",
   "execution_count": 1,
   "metadata": {},
   "outputs": [],
   "source": [
    "import numpy as np"
   ]
  },
  {
   "cell_type": "code",
   "execution_count": 2,
   "metadata": {},
   "outputs": [],
   "source": [
    "class tempconvert():\n",
    "    '''\n",
    "    A python module that converts temperatures interchangeably between degrees \n",
    "    Celsius, Fahrenheit, and Kelvin.\n",
    "    '''\n",
    "    \n",
    "    def __init__(self, temp, regularized=True):\n",
    "        # Record the type and data type of temperatures\n",
    "        self.type = type(temp)\n",
    "        self.dtype = type(temp[0])\n",
    "        self.temp = np.array(temp)\n",
    "        # With the constraint of absolute zero as default\n",
    "        self.regularized = regularized\n",
    "    \n",
    "    # Convert Celsius to Fahrenheit\n",
    "    def C2F(self):\n",
    "        self.temp = self.temp*1.8 + 32.\n",
    "        if self.regularized == True:\n",
    "            self.temp = np.clip(self.temp, -459.67, None)\n",
    "        return self.output()\n",
    "    \n",
    "    # Convert Fahrenheit to Celsius\n",
    "    def F2C(self):\n",
    "        self.temp = (self.temp - 32.)/1.8\n",
    "        if self.regularized == True:\n",
    "            self.temp = np.clip(self.temp, -273.15, None)\n",
    "        return self.output()\n",
    "    \n",
    "    # Convert Celsius to Kelvin\n",
    "    def C2K(self):\n",
    "        self.temp = self.temp + 273.15\n",
    "        if self.regularized == True:\n",
    "            self.temp = np.clip(self.temp, 0., None)\n",
    "        return self.output()\n",
    "    \n",
    "    # Convert Kelvin to Celsius\n",
    "    def K2C(self):\n",
    "        self.temp = self.temp - 273.15\n",
    "        if self.regularized == True:\n",
    "            self.temp = np.clip(self.temp, -273.15, None)\n",
    "        return self.output()\n",
    "    \n",
    "    # Convert Fahrenheit to Kelvin\n",
    "    def F2K(self):\n",
    "        self.F2C()\n",
    "        self.C2K()\n",
    "        return self.output()\n",
    "    \n",
    "    # Convert Kelvin to Fahrenheit\n",
    "    def K2F(self):\n",
    "        self.K2C()\n",
    "        self.C2F()\n",
    "        return self.output()\n",
    "    \n",
    "    # Output the origional data type\n",
    "    def output(self):\n",
    "        self.temp = np.array(self.temp, dtype=self.dtype)\n",
    "        if self.type == list:\n",
    "            return self.temp.tolist()\n",
    "        else:\n",
    "            return self.temp"
   ]
  },
  {
   "cell_type": "code",
   "execution_count": 6,
   "metadata": {},
   "outputs": [
    {
     "name": "stdout",
     "output_type": "stream",
     "text": [
      "Input F [2, 30, 400, 5000] , output K [257, 272, 477, 3033]\n",
      "Input C [-280.    0. 1000.] , output F [-459.67   32.   1832.  ]\n",
      "Input K [-1.e+00  2.e+02  3.e+04] , output F [ -459.67   -99.67 53540.33]\n"
     ]
    }
   ],
   "source": [
    "# Tests\n",
    "input_0 = [2, 30, 400, 5000]\n",
    "input_1 = np.array([-280., 0., 1000], dtype=np.float32)\n",
    "input_2 = np.array([-1., 200, 30000])\n",
    "\n",
    "output_0 = tempconvert(input_0).F2K()\n",
    "output_1 = tempconvert(input_1).C2F()\n",
    "output_2 = tempconvert(input_2).K2F()\n",
    "\n",
    "print(\"Input F\", input_0, \", output K\", output_0)\n",
    "print(\"Input C\", input_1, \", output F\", output_1)\n",
    "print(\"Input K\", input_2, \", output F\", output_2)\n",
    "assert type(input_0) == type(output_0), \"wrong type\"\n",
    "assert type(input_1) == type(output_1), \"wrong type\"\n",
    "assert type(input_2) == type(output_2), \"wrong type\"\n",
    "assert isinstance(output_0[0], type(input_0[0])), \"wrong type\"\n",
    "assert isinstance(output_1[0], type(input_1[0])), \"wrong type\"\n",
    "assert isinstance(output_2[0], type(input_2[0])), \"wrong type\""
   ]
  },
  {
   "cell_type": "code",
   "execution_count": null,
   "metadata": {},
   "outputs": [],
   "source": []
  }
 ],
 "metadata": {
  "kernelspec": {
   "display_name": "Python [conda env:gpu] *",
   "language": "python",
   "name": "conda-env-gpu-py"
  },
  "language_info": {
   "codemirror_mode": {
    "name": "ipython",
    "version": 3
   },
   "file_extension": ".py",
   "mimetype": "text/x-python",
   "name": "python",
   "nbconvert_exporter": "python",
   "pygments_lexer": "ipython3",
   "version": "3.7.6"
  }
 },
 "nbformat": 4,
 "nbformat_minor": 2
}
