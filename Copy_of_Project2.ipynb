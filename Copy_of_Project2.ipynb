{
  "nbformat": 4,
  "nbformat_minor": 0,
  "metadata": {
    "colab": {
      "name": "Copy of Project2.ipynb",
      "provenance": [],
      "collapsed_sections": [],
      "include_colab_link": true
    },
    "kernelspec": {
      "name": "python3",
      "display_name": "Python 3"
    }
  },
  "cells": [
    {
      "cell_type": "markdown",
      "metadata": {
        "id": "view-in-github",
        "colab_type": "text"
      },
      "source": [
        "<a href=\"https://colab.research.google.com/github/cathyxinchangli/ATMS-597-SP-2020/blob/sarah/Copy_of_Project2.ipynb\" target=\"_parent\"><img src=\"https://colab.research.google.com/assets/colab-badge.svg\" alt=\"Open In Colab\"/></a>"
      ]
    },
    {
      "cell_type": "code",
      "metadata": {
        "id": "0evtjsXpiHG1",
        "colab_type": "code",
        "outputId": "8c8c6855-8266-4505-a3e8-278cddfc3365",
        "colab": {
          "base_uri": "https://localhost:8080/",
          "height": 34
        }
      },
      "source": [
        "\"\"\"Weekly Averaged Temperature for NYC\"\"\"\n",
        "# This code is part of a class assignment for ATMS 597, Spring 2020,\n",
        "# at the University of Illinois at Urbana Champaign.\n",
        "# Use this code to display weekly average temperature in NYC from\n",
        "# 01/01/2018 to 01/01/2019 in a climate stripes graph.\n",
        "\n",
        "import requests\n",
        "import pandas as pd\n",
        "import datetime\n",
        "from IPython import display # for updating the cell dynamically\n",
        "import matplotlib.pyplot as plt\n",
        "from matplotlib.patches import Rectangle\n",
        "from matplotlib.collections import PatchCollection\n",
        "from matplotlib.colors import ListedColormap\n",
        "import pandas as pd\n",
        "\n",
        "def make_request(endpoint, payload=None):\n",
        "    \"\"\"\n",
        "    Make a request to a specific endpoint on the weather API\n",
        "    passing headers and optional payload.\n",
        "    \n",
        "    Parameters:\n",
        "        - endpoint: The endpoint of the API you want to \n",
        "                    make a GET request to.\n",
        "        - payload: A dictionary of data to pass along \n",
        "                   with the request.\n",
        "    \n",
        "    Returns:\n",
        "        Response object.\n",
        "    ---\n",
        "    S. Moline, 'Hands on Data Analysis with Pandas'\n",
        "    https://github.com/stefmolin/Hands-On-Data-Analysis-with-Pandas/blob/master/ch_04/0-weather_data_collection.ipynb\n",
        "    \"\"\"\n",
        "    return requests.get(\n",
        "        f'https://www.ncdc.noaa.gov/cdo-web/api/v2/{endpoint}',\n",
        "        headers={\n",
        "            'token': 'HfZphTTGbXckpmEuqevAXQZFRCTEJgkJ' # obtained by X. Li, 2/4/2020\n",
        "        },\n",
        "        params=payload\n",
        "    )\n",
        "\n",
        "# Set date range\n",
        "current = datetime.date(2018, 1, 1)\n",
        "end = datetime.date(2019, 1, 1)\n",
        "\n",
        "results = []\n",
        "while current < end:\n",
        "    # Update the cell with status information\n",
        "    display.clear_output(wait=True)\n",
        "    display.display(f'Gathering data for {str(current)}')\n",
        "    \n",
        "    response = make_request(\n",
        "        'data', \n",
        "        {\n",
        "            'datasetid' : 'GHCND', # Global Historical Climatology Network - Daily (GHCND) dataset\n",
        "            'datatypeid' : ['TMAX','TMIN'],\n",
        "            'locationid' : 'CITY:US360019', # NYC\n",
        "            'stationid' : 'GHCND:USC00280907',\n",
        "            'startdate' : current,\n",
        "            'enddate' : current,\n",
        "            'units' : 'metric',\n",
        "            'limit' : 1000 # max allowed\n",
        "        })\n",
        "\n",
        "    if response.ok:\n",
        "        # We extend the list instead of appending to avoid getting a nested list\n",
        "        results.extend(response.json()['results'])\n",
        "\n",
        "    # Update the current date to avoid an infinite loop\n",
        "    current += datetime.timedelta(days=1)\n",
        "\n",
        "def clean_up(datain,key):\n",
        "    '''\n",
        "    TBD\n",
        "    credit S. Nesbitt\n",
        "    '''\n",
        "    datain[key][(datain[key] == 9999)] = None\n",
        "    datain[key]= datain[key].astype('float')\n",
        "    return datain"
      ],
      "execution_count": 0,
      "outputs": [
        {
          "output_type": "display_data",
          "data": {
            "text/plain": [
              "'Gathering data for 2018-12-31'"
            ]
          },
          "metadata": {
            "tags": []
          }
        }
      ]
    },
    {
      "cell_type": "code",
      "metadata": {
        "id": "s1nczRd8xjY2",
        "colab_type": "code",
        "colab": {}
      },
      "source": [
        "# Create a dataframe to store the results\n",
        "# Contains date, TMAX, TMIN, station, and value\n",
        "df = pd.DataFrame(results)"
      ],
      "execution_count": 0,
      "outputs": []
    },
    {
      "cell_type": "code",
      "metadata": {
        "id": "lIvh_BAFOLAh",
        "colab_type": "code",
        "outputId": "3bf04b34-938a-49a6-e74e-36594ab5d704",
        "colab": {
          "base_uri": "https://localhost:8080/",
          "height": 105
        }
      },
      "source": [
        "# Clean up data for missing values (as represented by '9999' according to \n",
        "# GHCND documentation: https://www1.ncdc.noaa.gov/pub/data/cdo/documentation/GHCND_documentation.pdf)\n",
        "df = clean_up(df, 'value')\n",
        "df['date'] = pd.to_datetime(df['date'], infer_datetime_format=True)\n",
        "df.index = df['date']"
      ],
      "execution_count": 0,
      "outputs": [
        {
          "output_type": "stream",
          "text": [
            "/usr/local/lib/python3.6/dist-packages/ipykernel_launcher.py:73: SettingWithCopyWarning: \n",
            "A value is trying to be set on a copy of a slice from a DataFrame\n",
            "\n",
            "See the caveats in the documentation: http://pandas.pydata.org/pandas-docs/stable/user_guide/indexing.html#returning-a-view-versus-a-copy\n"
          ],
          "name": "stderr"
        }
      ]
    },
    {
      "cell_type": "code",
      "metadata": {
        "id": "WmaMOq5-ixxd",
        "colab_type": "code",
        "colab": {}
      },
      "source": [
        "# Resample to be weekly average:\n",
        "df2 = df.resample('W').mean() #'W': weekly frequency"
      ],
      "execution_count": 0,
      "outputs": []
    },
    {
      "cell_type": "code",
      "metadata": {
        "id": "T6HpzLfvnh4F",
        "colab_type": "code",
        "outputId": "b92a09d2-4192-4624-f449-dd08c56c4f53",
        "colab": {
          "base_uri": "https://localhost:8080/",
          "height": 268
        }
      },
      "source": [
        "# Plotting\n",
        "# copied from https://matplotlib.org/matplotblog/posts/warming-stripes/\n",
        "\n",
        "# Time period\n",
        "FIRST = datetime.date(2018, 1, 1)\n",
        "LAST = datetime.date(2019, 1, 1)  # inclusive\n",
        "\n",
        "# Reference period for the center of the color scale\n",
        "FIRST_REFERENCE = datetime.date(2018, 3, 1)\n",
        "LAST_REFERENCE = datetime.date(2018, 5, 1)\n",
        "\n",
        "# Calculate anomaly\n",
        "tavg = df2.loc[FIRST:LAST, 'value'].dropna() # average temperature\n",
        "reference = tavg.loc[FIRST_REFERENCE:LAST_REFERENCE].mean()\n",
        "\n",
        "LIM = tavg.quantile(q=0.95) # degrees\n",
        "\n",
        "# The colors in this colormap come from http://colorbrewer2.org\n",
        "# The 8 more saturated colors from the 9 blues / 9 reds\n",
        "cmap = ListedColormap([\n",
        "    '#08306b', '#08519c', '#2171b5', '#4292c6',\n",
        "    '#6baed6', '#9ecae1', '#c6dbef', '#deebf7',\n",
        "    '#fee0d2', '#fcbba1', '#fc9272', '#fb6a4a',\n",
        "    '#ef3b2c', '#cb181d', '#a50f15', '#67000d',\n",
        "])\n",
        "\n",
        "fig = plt.figure(figsize=(10, 3))\n",
        "\n",
        "####### NEED TO MODIFY ######\n",
        "ax = fig.add_axes([0, 0, 1, 1])\n",
        "ax.set_ylim(0,1)\n",
        "# ax.set_axis_off() # if user chooses to overlay data on top of the strips, we need the axes.\n",
        "#############################\n",
        "\n",
        "\n",
        "# Add Climate Stripes\n",
        "col = PatchCollection([Rectangle((y, 0), 1, 1) for y in range(52)])\n",
        "col.set_array(tavg)\n",
        "col.set_cmap(cmap)\n",
        "col.set_clim(reference - LIM, reference + LIM)\n",
        "ax.add_collection(col)\n",
        "ax.set_xlim(0, 52)\n",
        "\n",
        "###### NEED TO ADD ######\n",
        "# line plot of data points\n",
        "# tavg.plot(ax=ax, secondary_y=True)\n",
        "#ax.set_xlim(FIRST, LAST + pd.Timedelta(days=1))\n",
        "#########################\n",
        "\n",
        "\n",
        "fig.savefig('warming-stripes.png')\n",
        "plt.show()\n"
      ],
      "execution_count": 0,
      "outputs": [
        {
          "output_type": "display_data",
          "data": {
            "image/png": "[encoded data removed]",
            "text/plain": [
              "<Figure size 720x216 with 1 Axes>"
            ]
          },
          "metadata": {
            "tags": []
          }
        }
      ]
    },
    {
      "cell_type": "code",
      "metadata": {
        "id": "cbh1gJNp-cmP",
        "colab_type": "code",
        "colab": {}
      },
      "source": [
        ""
      ],
      "execution_count": 0,
      "outputs": []
    }
  ]
}