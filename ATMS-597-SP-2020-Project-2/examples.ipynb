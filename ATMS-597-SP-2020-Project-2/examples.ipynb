{
  "nbformat": 4,
  "nbformat_minor": 0,
  "metadata": {
    "colab": {
      "name": "examples.ipynb",
      "provenance": [],
      "collapsed_sections": [
        "VkbHmAs5fY-V",
        "s453rD4Rfsaj",
        "kI1cgxPmfuOV",
        "UR6ErXpdidGh",
        "6zEhxqc1gt6l",
        "FST_A-UJg4eC",
        "6xeG6D13m4cS"
      ],
      "authorship_tag": "ABX9TyMznbwZW8DnigveLazAM3AI",
      "include_colab_link": true
    },
    "kernelspec": {
      "name": "python3",
      "display_name": "Python 3"
    }
  },
  "cells": [
    {
      "cell_type": "markdown",
      "metadata": {
        "id": "view-in-github",
        "colab_type": "text"
      },
      "source": [
        "<a href=\"https://colab.research.google.com/github/cathyxinchangli/ATMS-597-SP-2020/blob/master/ATMS-597-SP-2020-Project-2/examples.ipynb\" target=\"_parent\"><img src=\"https://colab.research.google.com/assets/colab-badge.svg\" alt=\"Open In Colab\"/></a>"
      ]
    },
    {
      "cell_type": "code",
      "metadata": {
        "id": "yQB0KBQDUIjK",
        "colab_type": "code",
        "colab": {}
      },
      "source": [
        "import requests\n",
        "import numpy as np\n",
        "import pandas as pd\n",
        "import datetime\n",
        "\n",
        "import matplotlib as mlp\n",
        "import matplotlib.pyplot as plt\n",
        "from matplotlib.patches import Rectangle\n",
        "from matplotlib.collections import PatchCollection\n",
        "from matplotlib.colors import ListedColormap\n",
        "import matplotlib.dates as mdates\n",
        "\n",
        "%matplotlib inline\n",
        "\n",
        "# assumptions:\n",
        "# 1. Reference period: 1970.1.1 - 1998.12.31 due to data availability\n",
        "# 2. Anomaly: raw, not standardized\n",
        "# 3. Leap year: (TBD Yang?)\n",
        "# 4. Treatment for extra days outside of 52 weeks\n",
        "# 5. ..."
      ],
      "execution_count": 0,
      "outputs": []
    },
    {
      "cell_type": "markdown",
      "metadata": {
        "id": "kWaj6E1UVMO6",
        "colab_type": "text"
      },
      "source": [
        "# Functions"
      ]
    },
    {
      "cell_type": "markdown",
      "metadata": {
        "id": "VkbHmAs5fY-V",
        "colab_type": "text"
      },
      "source": [
        "## Get Data"
      ]
    },
    {
      "cell_type": "code",
      "metadata": {
        "id": "LlFC9T5WULEh",
        "colab_type": "code",
        "colab": {}
      },
      "source": [
        "def make_request(endpoint, payload=None):\n",
        "    \"\"\"\n",
        "    Make a request to a specific endpoint on the weather API\n",
        "    passing headers and optional payload.\n",
        "    \n",
        "    Parameters:\n",
        "        - endpoint: The endpoint of the API you want to \n",
        "                    make a GET request to.\n",
        "        - payload: A dictionary of data to pass along \n",
        "                   with the request.\n",
        "    \n",
        "    Returns:\n",
        "        Response object.\n",
        "    ---\n",
        "    S. Moline, 'Hands on Data Analysis with Pandas'\n",
        "    https://github.com/stefmolin/Hands-On-Data-Analysis-with-Pandas/blob/master/ch_04/0-weather_data_collection.ipynb\n",
        "    \"\"\"\n",
        "    return requests.get(\n",
        "        f'https://www.ncdc.noaa.gov/cdo-web/api/v2/{endpoint}',\n",
        "        headers={\n",
        "            'token': 'HfZphTTGbXckpmEuqevAXQZFRCTEJgkJ' # obtained by X. Li, 2/4/2020\n",
        "        },\n",
        "        params=payload\n",
        "    )\n",
        "\n",
        "def fetch_data(locationid, startdate, enddate, endpoint=\"data\",\n",
        "               datasetid=\"GHCND\", stationid=None, units=\"metric\", limit=1000):\n",
        "    \"\"\"\n",
        "    Simple fetch request for requesting TMIN and TMAX data from API within \n",
        "    the same year.\n",
        "\n",
        "    Parameters:\n",
        "        - datasetid: default 'GHCND',\n",
        "        - locationid\n",
        "        - stationid \n",
        "        - startdate: a datetime object\n",
        "        - enddate: a datetime object\n",
        "        - units: specify preferred units for retrieving the data\n",
        "        - limit: max. 1000 requests\n",
        "\n",
        "    Returns:\n",
        "        - DataFrame of the requested dataset\n",
        "\n",
        "    \"\"\"\n",
        "    response = make_request(\n",
        "        endpoint,\n",
        "        {\n",
        "            \"datasetid\": datasetid,\n",
        "            \"datatypeid\": [\"TMAX\", \"TMIN\"],\n",
        "            \"locationid\": locationid,\n",
        "            \"stationid\": stationid,\n",
        "            \"startdate\": startdate,\n",
        "            \"enddate\": enddate,\n",
        "            \"unit\": units,\n",
        "            \"limit\": limit,\n",
        "        })\n",
        "    response = pd.DataFrame(response.json()[\"results\"])\n",
        "    return response\n",
        "\n",
        "def loop_request(locationid, startdate, enddate, endpoint=\"data\",\n",
        "                 datasetid=\"GHCND\", stationid=None, units=\"metric\", limit=1000):\n",
        "    \"\"\"\n",
        "    Fetch TMIN and TMAX data from API over arbitrary time period without \n",
        "    running into data request limit.\n",
        "\n",
        "    Parameters:\n",
        "        - datasetid: default 'GHCND',\n",
        "        - locationid\n",
        "        - stationid: default None\n",
        "        - startdate: a datetime object\n",
        "        - enddate: a datetime object\n",
        "        - units: preferred units for retrieving the data, default 'metric'\n",
        "        - limit: max. 1000 requests\n",
        "\n",
        "    Returns:\n",
        "        - DataFrame of the requested dataset\n",
        "\n",
        "    \"\"\"\n",
        "    if startdate.year == enddate.year:\n",
        "        return fetch_data(locationid, startdate, enddate, endpoint, datasetid, \n",
        "                          stationid, units, limit)\n",
        "    else:\n",
        "        enddate_0 = datetime.date(startdate.year, 12, 31)\n",
        "        df_tmp_0 = fetch_data(locationid, startdate, enddate_0, endpoint, datasetid, \n",
        "                            stationid, units, limit)\n",
        "        for year in range(startdate.year + 1, enddate.year):\n",
        "            startdate_tmp = datetime.date(year, 1, 1)\n",
        "            enddate_tmp = datetime.date(year + 1, 1, 1)\n",
        "            df_tmp = fetch_data(locationid, startdate_tmp, enddate_tmp, endpoint, datasetid, \n",
        "                                stationid, units, limit)\n",
        "            df_tmp_0 = pd.concat([df_tmp_0, df_tmp])\n",
        "        startdate_1 = datetime.date(enddate.year, 1, 1)\n",
        "        df_tmp_1 = fetch_data(locationid, startdate_1, enddate, endpoint, datasetid, \n",
        "                                stationid, units, limit)\n",
        "        df_tmp_0 = pd.concat([df_tmp_0, df_tmp_1])\n",
        "        return df_tmp_0\n",
        "        \n",
        "def clean_up(datain):\n",
        "    '''\n",
        "    Clean up missing values, adjust the units of the values, covert datetime \n",
        "    format to pandas-datetime and re-index using datetime.\n",
        "\n",
        "    Parameters:\n",
        "        - datain: the DataFrame to perform the function on\n",
        "    \n",
        "    Returns:\n",
        "        cleaned up DataFrame\n",
        "    ---\n",
        "    Adapted from S. Nesbitt, Module 2, ATMS 597 SP 2020\n",
        "    '''\n",
        "    # clean up missing values\n",
        "    datain[\"value\"][(np.abs(datain[\"value\"])==9999)] = np.nan\n",
        "    datain.dropna(inplace=True)\n",
        "    # adjust unit from 10th of degree C to degree C\n",
        "    datain[\"value\"] = datain[\"value\"].astype(\"float\") / 10.\n",
        "    # convert datetime format and re-index\n",
        "    datain[\"date\"] = pd.to_datetime(datain[\"date\"], infer_datetime_format=True) # this is hard coded\n",
        "    datain.index = datain[\"date\"]\n",
        "    return datain"
      ],
      "execution_count": 0,
      "outputs": []
    },
    {
      "cell_type": "markdown",
      "metadata": {
        "id": "s453rD4Rfsaj",
        "colab_type": "text"
      },
      "source": [
        "## Calculate Anomalies"
      ]
    },
    {
      "cell_type": "code",
      "metadata": {
        "id": "tZ3CmUlDfpCI",
        "colab_type": "code",
        "colab": {}
      },
      "source": [
        "def is_leap_and_last_day(s):\n",
        "    \"\"\"\n",
        "    TBD by Yang\n",
        "    \"\"\"\n",
        "    return ((s.index.year % 4 == 0) & ((s.index.year % 100 != 0) | (s.index.year % 400 == 0)) & (s.index.month == 12) & (s.index.day == 30)) | ((s.index.month == 12) & (s.index.day == 31))\n",
        "\n",
        "def cal_anomaly_W(df, df_ref):\n",
        "    \"\"\"\n",
        "    TBD\n",
        "    \"\"\"\n",
        "    # Calculate reference weekly temperature from 1970 to the end of 1998\n",
        "    mask = is_leap_and_last_day(df_ref)\n",
        "    df_ref_tmp = df_ref[~mask]\n",
        "    df_ref_tmp[\"W_num\"] = (df_ref_tmp[\"date\"].dt.dayofyear - 1) // 7\n",
        "    df_ref_W = df_ref_tmp.groupby(\"W_num\").mean()\n",
        "    \n",
        "    mask = is_leap_and_last_day(df)\n",
        "    df_tmp = df[~mask]\n",
        "    df_W = df_tmp.resample(\"7D\").mean()\n",
        "    df_W[\"W_num\"] = (df_W.index.dayofyear - 1) // 7\n",
        "    \n",
        "    for num in set(df_W[\"W_num\"]):\n",
        "        df_W[\"value\"][df_W[\"W_num\"]==num] -= df_ref_W[\"value\"][num]\n",
        "        \n",
        "    return df_W, df_ref_W\n",
        "\n",
        "def cal_anomaly_M(df, df_ref):\n",
        "    \"\"\"\n",
        "    TBD\n",
        "    \"\"\"\n",
        "    # reference frame:\n",
        "    df_ref_tmp = df_ref.resample('MS').mean()\n",
        "    df_ref_tmp['M_num'] = df_ref_tmp.index.month\n",
        "    df_ref_M = df_ref_tmp.groupby('M_num').mean()\n",
        "\n",
        "    # plotting frame:\n",
        "    df_M = df.resample('MS').mean() # this will fill incomplete months into complete ones and place the mean into the first day of the month\n",
        "    df_M['M_num'] = df_M.index.month\n",
        "\n",
        "    # calculate anomaly:\n",
        "    for num in set(df_M['M_num']):\n",
        "        df_M['value'][df_M['M_num']==num] -= df_ref_M['value'][num]\n",
        "    \n",
        "    return df_M, df_ref_M\n",
        "\n",
        "def cal_anomaly_Y(df, df_ref):\n",
        "    \"\"\"\n",
        "    TBD\n",
        "    \"\"\"\n",
        "    # reference frame (just a number now)\n",
        "    df_ref_Y = df_ref['value'].mean()\n",
        "\n",
        "    # plotting frame:\n",
        "    df_Y = df.resample('AS').mean() # this will fill incomplete years into complete ones and place the mean into the first day of the year\n",
        "\n",
        "    # calculate anomaly:\n",
        "    df_Y['value'] -= df_ref_Y\n",
        "    \n",
        "    return df_Y, df_ref_Y"
      ],
      "execution_count": 0,
      "outputs": []
    },
    {
      "cell_type": "markdown",
      "metadata": {
        "id": "kI1cgxPmfuOV",
        "colab_type": "text"
      },
      "source": [
        "## Plot"
      ]
    },
    {
      "cell_type": "code",
      "metadata": {
        "id": "RnPY8ZzDfvnI",
        "colab_type": "code",
        "colab": {}
      },
      "source": [
        "def stripe_plot(df_in, df_ref, freq, flag=True):\n",
        "    '''\n",
        "    the plotting function for warming stripes.\n",
        "    \n",
        "    Inputs:\n",
        "        - df: the conditioned DataFrame for plotting;\n",
        "        - df_ref: the reference DataFrame for calculating the anomaly\n",
        "        - freq: 'W', 'M', or 'Y'\n",
        "            frequency for calculating and ploting the anomaly\n",
        "        - flag: Boolean\n",
        "            whether to plot the data points over the strips or not. Default is True.\n",
        "    \n",
        "    Returns:\n",
        "        warming stripes figure named 'warming-stripe-[freq].png'.\n",
        "    ---\n",
        "    Maximilian Nöthe, 'Creating the Warming Stripes in Matplotlib'\n",
        "    https://matplotlib.org/matplotblog/posts/warming-stripes/\n",
        "    '''\n",
        "    if freq == 'W':\n",
        "        df = cal_anomaly_W(df_in, df_ref)[0] # call in the func that calculates weekly anomaly\n",
        "        interval = 7\n",
        "    elif freq == 'M':\n",
        "        df = cal_anomaly_M(df_in, df_ref)[0]\n",
        "        interval = 31\n",
        "    elif freq == 'Y':\n",
        "        df = cal_anomaly_Y(df_in, df_ref)[0]\n",
        "        interval = 366\n",
        "    else:\n",
        "        print('Please enter a valid frequency (W, M, or Y)')\n",
        "    \n",
        "    max_temp = df[\"value\"].max()\n",
        "    min_temp = df[\"value\"].min()\n",
        "    temp_delta = max_temp - min_temp # deg C\n",
        "    buffer = 0.2 # deg C\n",
        "    \n",
        "    cmap = ListedColormap([\n",
        "        '#08306b', '#08519c', '#2171b5', '#4292c6',\n",
        "        '#6baed6', '#9ecae1', '#c6dbef', '#deebf7',\n",
        "        '#fee0d2', '#fcbba1', '#fc9272', '#fb6a4a',\n",
        "        '#ef3b2c', '#cb181d', '#a50f15', '#67000d',\n",
        "    ])\n",
        "\n",
        "    stripes = len(df.index)\n",
        "    fig = plt.figure(figsize=(min(0.2*stripes,12), 5))\n",
        "    ax = fig.add_axes([0.1, 0.12, 0.9, 0.88])\n",
        "    \n",
        "    date_str_list = ['{}'.format(d) for d in df.index]\n",
        "    date_corrected = mdates.datestr2num(date_str_list)\n",
        "\n",
        "    col = PatchCollection([\n",
        "        Rectangle( (y, min_temp-buffer), interval, temp_delta+2*buffer) \n",
        "        for y in date_corrected.astype(int)\n",
        "    ]) \n",
        "    # set data, colormap and color limits\n",
        "    col.set_array(df['value'])\n",
        "    col.set_cmap(cmap)\n",
        "    col.set_clim(min_temp, max_temp)\n",
        "    ax.add_collection(col)\n",
        "    ax.set_ylim(min_temp-buffer, max_temp+buffer)\n",
        "    ax.set_xlim(date_corrected[0], date_corrected[-1])\n",
        "    formatter = mdates.DateFormatter('%Y-%m-%d')\n",
        "    ax.xaxis.set_major_formatter(formatter)\n",
        "    fig.autofmt_xdate()\n",
        "    ax.set_xlabel('date')\n",
        "    # flag\n",
        "    if flag == True:\n",
        "        ax.plot(df['value'],':o',color='gold',linewidth=3, markersize=10)\n",
        "        ax.set_ylabel('temperature [deg C]')\n",
        "    else:\n",
        "        ax.axes.get_yaxis().set_visible(False)\n",
        "    fig.savefig('warming-stripes-'+freq+'.png')\n",
        "    fig.show()"
      ],
      "execution_count": 0,
      "outputs": []
    },
    {
      "cell_type": "markdown",
      "metadata": {
        "id": "zopL0sVAhYmf",
        "colab_type": "text"
      },
      "source": [
        "# Example\n",
        "Location: NYC<br>\n",
        "Start Date: 12/1/2015<br>\n",
        "End Date: 2/1/2018"
      ]
    },
    {
      "cell_type": "markdown",
      "metadata": {
        "id": "UR6ErXpdidGh",
        "colab_type": "text"
      },
      "source": [
        "### Get reference dataset"
      ]
    },
    {
      "cell_type": "code",
      "metadata": {
        "id": "YKG64jrxicFX",
        "colab_type": "code",
        "colab": {
          "base_uri": "https://localhost:8080/",
          "height": 122
        },
        "outputId": "f8bcef89-9b49-4417-9b73-0f7905e22f40"
      },
      "source": [
        "df_ref = loop_request(locationid=\"CITY:US360019\", startdate=datetime.date(1970, 1, 1), enddate=datetime.date(1998, 12, 31), stationid=\"GHCND:USC00280907\")\n",
        "df_ref = clean_up(df_ref)\n",
        "\n",
        "''' Uncomment to display output '''\n",
        "# display(df_ref.describe(), df_ref.head())"
      ],
      "execution_count": 31,
      "outputs": [
        {
          "output_type": "stream",
          "text": [
            "/usr/local/lib/python3.6/dist-packages/ipykernel_launcher.py:112: SettingWithCopyWarning: \n",
            "A value is trying to be set on a copy of a slice from a DataFrame\n",
            "\n",
            "See the caveats in the documentation: http://pandas.pydata.org/pandas-docs/stable/user_guide/indexing.html#returning-a-view-versus-a-copy\n"
          ],
          "name": "stderr"
        },
        {
          "output_type": "execute_result",
          "data": {
            "text/plain": [
              "' Uncomment to display output '"
            ]
          },
          "metadata": {
            "tags": []
          },
          "execution_count": 31
        }
      ]
    },
    {
      "cell_type": "markdown",
      "metadata": {
        "id": "6zEhxqc1gt6l",
        "colab_type": "text"
      },
      "source": [
        "### Get the dataset"
      ]
    },
    {
      "cell_type": "code",
      "metadata": {
        "id": "5AdHXqWlUPG9",
        "colab_type": "code",
        "colab": {
          "base_uri": "https://localhost:8080/",
          "height": 122
        },
        "outputId": "41ce3d04-6ee2-442a-a1e4-17c17ea58b4f"
      },
      "source": [
        "df = loop_request(locationid=\"CITY:US360019\", startdate=datetime.date(2015, 12, 1), enddate=datetime.date(2018, 2, 1), stationid=\"GHCND:USC00280907\")\n",
        "df = clean_up(df)\n",
        "\n",
        "''' Uncomment to display output '''\n",
        "# display(df.describe(), df.head(), df.tail())"
      ],
      "execution_count": 22,
      "outputs": [
        {
          "output_type": "stream",
          "text": [
            "/usr/local/lib/python3.6/dist-packages/ipykernel_launcher.py:112: SettingWithCopyWarning: \n",
            "A value is trying to be set on a copy of a slice from a DataFrame\n",
            "\n",
            "See the caveats in the documentation: http://pandas.pydata.org/pandas-docs/stable/user_guide/indexing.html#returning-a-view-versus-a-copy\n"
          ],
          "name": "stderr"
        },
        {
          "output_type": "execute_result",
          "data": {
            "text/plain": [
              "' Uncomment to display output '"
            ]
          },
          "metadata": {
            "tags": []
          },
          "execution_count": 22
        }
      ]
    },
    {
      "cell_type": "markdown",
      "metadata": {
        "id": "FST_A-UJg4eC",
        "colab_type": "text"
      },
      "source": [
        "### Weekly"
      ]
    },
    {
      "cell_type": "markdown",
      "metadata": {
        "id": "PlnutRjRmwgE",
        "colab_type": "text"
      },
      "source": [
        "<b>Calculate Anomalies</b>"
      ]
    },
    {
      "cell_type": "code",
      "metadata": {
        "id": "B9ccd0efgpwk",
        "colab_type": "code",
        "colab": {
          "base_uri": "https://localhost:8080/",
          "height": 224
        },
        "outputId": "fdbf474b-8bfd-4776-a3d3-7e28899ad643"
      },
      "source": [
        "df_W, df_ref_W = cal_anomaly_W(df, df_ref)\n",
        "\n",
        "''' Uncomment to display output '''\n",
        "# display(df_ref_W, df.head(), df_W.head())"
      ],
      "execution_count": 33,
      "outputs": [
        {
          "output_type": "stream",
          "text": [
            "/usr/local/lib/python3.6/dist-packages/ipykernel_launcher.py:14: SettingWithCopyWarning: \n",
            "A value is trying to be set on a copy of a slice from a DataFrame.\n",
            "Try using .loc[row_indexer,col_indexer] = value instead\n",
            "\n",
            "See the caveats in the documentation: http://pandas.pydata.org/pandas-docs/stable/user_guide/indexing.html#returning-a-view-versus-a-copy\n",
            "  \n",
            "/usr/local/lib/python3.6/dist-packages/ipykernel_launcher.py:23: SettingWithCopyWarning: \n",
            "A value is trying to be set on a copy of a slice from a DataFrame\n",
            "\n",
            "See the caveats in the documentation: http://pandas.pydata.org/pandas-docs/stable/user_guide/indexing.html#returning-a-view-versus-a-copy\n"
          ],
          "name": "stderr"
        },
        {
          "output_type": "execute_result",
          "data": {
            "text/plain": [
              "' Uncomment to display output '"
            ]
          },
          "metadata": {
            "tags": []
          },
          "execution_count": 33
        }
      ]
    },
    {
      "cell_type": "markdown",
      "metadata": {
        "id": "ayz8dNOfmyfG",
        "colab_type": "text"
      },
      "source": [
        "<b>Plot Climate Stripes</b>"
      ]
    },
    {
      "cell_type": "code",
      "metadata": {
        "id": "FOajrHo_mScg",
        "colab_type": "code",
        "colab": {
          "base_uri": "https://localhost:8080/",
          "height": 596
        },
        "outputId": "74fdce3e-436f-4fa6-f578-d5da8c1225a7"
      },
      "source": [
        "stripe_plot(df, df_ref, freq='W', flag=1)"
      ],
      "execution_count": 34,
      "outputs": [
        {
          "output_type": "stream",
          "text": [
            "/usr/local/lib/python3.6/dist-packages/ipykernel_launcher.py:14: SettingWithCopyWarning: \n",
            "A value is trying to be set on a copy of a slice from a DataFrame.\n",
            "Try using .loc[row_indexer,col_indexer] = value instead\n",
            "\n",
            "See the caveats in the documentation: http://pandas.pydata.org/pandas-docs/stable/user_guide/indexing.html#returning-a-view-versus-a-copy\n",
            "  \n",
            "/usr/local/lib/python3.6/dist-packages/ipykernel_launcher.py:23: SettingWithCopyWarning: \n",
            "A value is trying to be set on a copy of a slice from a DataFrame\n",
            "\n",
            "See the caveats in the documentation: http://pandas.pydata.org/pandas-docs/stable/user_guide/indexing.html#returning-a-view-versus-a-copy\n"
          ],
          "name": "stderr"
        },
        {
          "output_type": "display_data",
          "data": {
            "image/png": "[encoded data removed]",
            "text/plain": [
              "<Figure size 864x360 with 1 Axes>"
            ]
          },
          "metadata": {
            "tags": []
          }
        }
      ]
    },
    {
      "cell_type": "markdown",
      "metadata": {
        "id": "6xeG6D13m4cS",
        "colab_type": "text"
      },
      "source": [
        "### Monthly"
      ]
    },
    {
      "cell_type": "markdown",
      "metadata": {
        "id": "ZQPE_Erdm-th",
        "colab_type": "text"
      },
      "source": [
        "<b>Calculate Anomalies</b>"
      ]
    },
    {
      "cell_type": "code",
      "metadata": {
        "id": "ychXNVR6m_Zi",
        "colab_type": "code",
        "colab": {
          "base_uri": "https://localhost:8080/",
          "height": 122
        },
        "outputId": "963d80d9-5c02-4ec1-ff31-5a9328ce18fa"
      },
      "source": [
        "df_M, df_ref_M = cal_anomaly_M(df, df_ref)\n",
        "\n",
        "''' Uncomment to display output '''\n",
        "# display(df_ref_M, df.head(), df_M.head())"
      ],
      "execution_count": 37,
      "outputs": [
        {
          "output_type": "stream",
          "text": [
            "/usr/local/lib/python3.6/dist-packages/ipykernel_launcher.py:42: SettingWithCopyWarning: \n",
            "A value is trying to be set on a copy of a slice from a DataFrame\n",
            "\n",
            "See the caveats in the documentation: http://pandas.pydata.org/pandas-docs/stable/user_guide/indexing.html#returning-a-view-versus-a-copy\n"
          ],
          "name": "stderr"
        },
        {
          "output_type": "execute_result",
          "data": {
            "text/plain": [
              "' Uncomment to display output '"
            ]
          },
          "metadata": {
            "tags": []
          },
          "execution_count": 37
        }
      ]
    },
    {
      "cell_type": "markdown",
      "metadata": {
        "id": "uYSrnQVum_hU",
        "colab_type": "text"
      },
      "source": [
        "<b>Plot Climate Stripes</b>"
      ]
    },
    {
      "cell_type": "code",
      "metadata": {
        "id": "zyOEao8Dm_pz",
        "colab_type": "code",
        "colab": {
          "base_uri": "https://localhost:8080/",
          "height": 494
        },
        "outputId": "f758bfc6-ba9f-4bf7-ab90-fc2ff0abd946"
      },
      "source": [
        "stripe_plot(df, df_ref, freq='M', flag=1)"
      ],
      "execution_count": 38,
      "outputs": [
        {
          "output_type": "stream",
          "text": [
            "/usr/local/lib/python3.6/dist-packages/ipykernel_launcher.py:42: SettingWithCopyWarning: \n",
            "A value is trying to be set on a copy of a slice from a DataFrame\n",
            "\n",
            "See the caveats in the documentation: http://pandas.pydata.org/pandas-docs/stable/user_guide/indexing.html#returning-a-view-versus-a-copy\n"
          ],
          "name": "stderr"
        },
        {
          "output_type": "display_data",
          "data": {
            "image/png": "[encoded data removed]",
            "text/plain": [
              "<Figure size 388.8x360 with 1 Axes>"
            ]
          },
          "metadata": {
            "tags": []
          }
        }
      ]
    }
  ]
}