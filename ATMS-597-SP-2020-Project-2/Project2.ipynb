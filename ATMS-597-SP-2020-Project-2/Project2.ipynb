{
  "nbformat": 4,
  "nbformat_minor": 0,
  "metadata": {
    "colab": {
      "name": "Copy of Project2.ipynb",
      "provenance": [],
      "collapsed_sections": [],
      "include_colab_link": true
    },
    "kernelspec": {
      "name": "python3",
      "display_name": "Python 3"
    }
  },
  "cells": [
    {
      "cell_type": "markdown",
      "metadata": {
        "id": "view-in-github",
        "colab_type": "text"
      },
      "source": [
        "<a href=\"https://colab.research.google.com/github/cathyxinchangli/ATMS-597-SP-2020/blob/sarah/ATMS-597-SP-2020-Project-2/Project2.ipynb\" target=\"_parent\"><img src=\"https://colab.research.google.com/assets/colab-badge.svg\" alt=\"Open In Colab\"/></a>"
      ]
    },
    {
      "cell_type": "code",
      "metadata": {
        "id": "0evtjsXpiHG1",
        "colab_type": "code",
        "outputId": "ed94ef30-0721-47ca-feb1-545f299d9e54",
        "colab": {
          "base_uri": "https://localhost:8080/",
          "height": 34
        }
      },
      "source": [
        "\"\"\"Weekly Averaged Temperature for NYC\"\"\"\n",
        "# This code is part of a class assignment for ATMS 597, Spring 2020,\n",
        "# at the University of Illinois at Urbana Champaign.\n",
        "# Use this code to display weekly average temperature in NYC from\n",
        "# 01/01/2018 to 01/01/2019 in a climate stripes graph.\n",
        "\n",
        "import requests\n",
        "import pandas as pd\n",
        "import datetime\n",
        "from IPython import display # for updating the cell dynamically\n",
        "import matplotlib.pyplot as plt\n",
        "from matplotlib.patches import Rectangle\n",
        "from matplotlib.collections import PatchCollection\n",
        "from matplotlib.colors import ListedColormap\n",
        "import pandas as pd\n",
        "import matplotlib.dates as mdates\n",
        "\n",
        "\n",
        "def make_request(endpoint, payload=None):\n",
        "    \"\"\"\n",
        "    Make a request to a specific endpoint on the weather API\n",
        "    passing headers and optional payload.\n",
        "    \n",
        "    Parameters:\n",
        "        - endpoint: The endpoint of the API you want to \n",
        "                    make a GET request to.\n",
        "        - payload: A dictionary of data to pass along \n",
        "                   with the request.\n",
        "    \n",
        "    Returns:\n",
        "        Response object.\n",
        "    ---\n",
        "    S. Moline, 'Hands on Data Analysis with Pandas'\n",
        "    https://github.com/stefmolin/Hands-On-Data-Analysis-with-Pandas/blob/master/ch_04/0-weather_data_collection.ipynb\n",
        "    \"\"\"\n",
        "    return requests.get(\n",
        "        f'https://www.ncdc.noaa.gov/cdo-web/api/v2/{endpoint}',\n",
        "        headers={\n",
        "            'token': 'HfZphTTGbXckpmEuqevAXQZFRCTEJgkJ' # obtained by X. Li, 2/4/2020\n",
        "        },\n",
        "        params=payload\n",
        "    )\n",
        "\n",
        "# Set date range\n",
        "current = datetime.date(2018, 1, 1)\n",
        "end = datetime.date(2019, 1, 1)\n",
        "\n",
        "results = []\n",
        "while current < end:\n",
        "    # Update the cell with status information\n",
        "    display.clear_output(wait=True)\n",
        "    display.display(f'Gathering data for {str(current)}')\n",
        "    \n",
        "    response = make_request(\n",
        "        'data', \n",
        "        {\n",
        "            'datasetid' : 'GHCND', # Global Historical Climatology Network - Daily (GHCND) dataset\n",
        "            'datatypeid' : ['TMAX','TMIN'],\n",
        "            'locationid' : 'CITY:US360019', # NYC\n",
        "            'stationid' : 'GHCND:USC00280907',\n",
        "            'startdate' : current,\n",
        "            'enddate' : current,\n",
        "            'units' : 'metric',\n",
        "            'limit' : 1000 # max allowed\n",
        "        })\n",
        "\n",
        "    if response.ok:\n",
        "        # We extend the list instead of appending to avoid getting a nested list\n",
        "        results.extend(response.json()['results'])\n",
        "\n",
        "    # Update the current date to avoid an infinite loop\n",
        "    current += datetime.timedelta(days=1)\n",
        "\n",
        "def clean_up(datain,key):\n",
        "    '''\n",
        "    TBD\n",
        "    credit S. Nesbitt\n",
        "    '''\n",
        "    datain[key][(datain[key] == 9999)] = None\n",
        "    datain[key]= datain[key].astype('float')\n",
        "    return datain"
      ],
      "execution_count": 2,
      "outputs": [
        {
          "output_type": "display_data",
          "data": {
            "text/plain": [
              "'Gathering data for 2018-12-31'"
            ]
          },
          "metadata": {
            "tags": []
          }
        }
      ]
    },
    {
      "cell_type": "code",
      "metadata": {
        "id": "s1nczRd8xjY2",
        "colab_type": "code",
        "colab": {}
      },
      "source": [
        "# Create a dataframe to store the results\n",
        "# Contains date, TMAX, TMIN, station, and value\n",
        "df = pd.DataFrame(results)"
      ],
      "execution_count": 0,
      "outputs": []
    },
    {
      "cell_type": "code",
      "metadata": {
        "id": "lIvh_BAFOLAh",
        "colab_type": "code",
        "outputId": "33ff643f-a4af-4b01-eb94-ff7e74411c19",
        "colab": {
          "base_uri": "https://localhost:8080/",
          "height": 85
        }
      },
      "source": [
        "# Clean up data for missing values (as represented by '9999' according to \n",
        "# GHCND documentation: https://www1.ncdc.noaa.gov/pub/data/cdo/documentation/GHCND_documentation.pdf)\n",
        "df = clean_up(df, 'value')\n",
        "df['date'] = pd.to_datetime(df['date'], infer_datetime_format=True)\n",
        "df.index = df['date']"
      ],
      "execution_count": 4,
      "outputs": [
        {
          "output_type": "stream",
          "text": [
            "/usr/local/lib/python3.6/dist-packages/ipykernel_launcher.py:79: SettingWithCopyWarning: \n",
            "A value is trying to be set on a copy of a slice from a DataFrame\n",
            "\n",
            "See the caveats in the documentation: http://pandas.pydata.org/pandas-docs/stable/user_guide/indexing.html#returning-a-view-versus-a-copy\n"
          ],
          "name": "stderr"
        }
      ]
    },
    {
      "cell_type": "code",
      "metadata": {
        "id": "WmaMOq5-ixxd",
        "colab_type": "code",
        "colab": {}
      },
      "source": [
        "# Resample to be weekly average:\n",
        "df2 = df.resample('W').mean() #'W': weekly frequency"
      ],
      "execution_count": 0,
      "outputs": []
    },
    {
      "cell_type": "code",
      "metadata": {
        "id": "T6HpzLfvnh4F",
        "colab_type": "code",
        "outputId": "72235fa0-c84b-407f-90d2-78d027920267",
        "colab": {
          "base_uri": "https://localhost:8080/",
          "height": 305
        }
      },
      "source": [
        "# Plotting\n",
        "# copied from https://matplotlib.org/matplotblog/posts/warming-stripes/\n",
        "\n",
        "# Time period\n",
        "FIRST = datetime.date(2018, 1, 1)\n",
        "LAST = datetime.date(2019, 1, 1)  # inclusive\n",
        "\n",
        "# Reference period for the center of the color scale\n",
        "FIRST_REFERENCE = datetime.date(2018, 3, 1)\n",
        "LAST_REFERENCE = datetime.date(2018, 5, 1)\n",
        "\n",
        "# Calculate anomaly\n",
        "tavg = df2.loc[FIRST:LAST, 'value'].dropna() # average temperature\n",
        "reference = tavg.loc[FIRST_REFERENCE:LAST_REFERENCE].mean() # reference temperature\n",
        "LIM = tavg.quantile(q=0.95) # 95% quantile, degrees\n",
        "\n",
        "# The colors in this colormap come from http://colorbrewer2.org\n",
        "# The 8 more saturated colors from the 9 blues / 9 reds\n",
        "cmap = ListedColormap([\n",
        "    '#08306b', '#08519c', '#2171b5', '#4292c6',\n",
        "    '#6baed6', '#9ecae1', '#c6dbef', '#deebf7',\n",
        "    '#fee0d2', '#fcbba1', '#fc9272', '#fb6a4a',\n",
        "    '#ef3b2c', '#cb181d', '#a50f15', '#67000d',\n",
        "])\n",
        "\n",
        "fig = plt.figure(figsize=(10, 3))\n",
        "\n",
        "####### NEED TO MODIFY ######\n",
        "ax = fig.add_axes([0, 0, 1, 1])\n",
        "# ax.set_axis_off() # if user chooses to overlay data on top of the strips, we need the axes.\n",
        "#############################\n",
        "\n",
        "# Format dates for x-axis\n",
        "date_str_list = ['{}'.format(d) for d in df['date'][0:len(df):2]]\n",
        "date_corrected = mdates.datestr2num(date_str_list)\n",
        "\n",
        "min_temp = df2.loc[:,'value'].min() # deg C\n",
        "max_temp = df2.loc[:,'value'].max() # deg C\n",
        "temp_delta = max_temp - min_temp # deg C\n",
        "buffer = 0.2 # deg C\n",
        "\n",
        "col = PatchCollection([\n",
        "    Rectangle((y, min_temp-buffer), 7, temp_delta+2*buffer) # need to change 7 to other values when resampled at other frequencies\n",
        "    for y in date_corrected.astype(int)[::7]\n",
        "]) \n",
        "\n",
        "# set data, colormap and color limits\n",
        "col.set_array(tavg)\n",
        "col.set_cmap(cmap)\n",
        "col.set_clim(min_temp, max_temp)\n",
        "ax.add_collection(col)\n",
        "\n",
        "ax.set_ylim(min_temp-buffer, max_temp+buffer)\n",
        "ax.set_xlim(date_corrected[0], date_corrected[-1])\n",
        "formatter = mdates.DateFormatter('%Y-%m-%d')\n",
        "ax.xaxis.set_major_formatter(formatter)\n",
        "fig.autofmt_xdate()\n",
        "\n",
        "# flag needs to come into play here\n",
        "ax.plot(df2['value'],':o',color='gold',linewidth=3, markersize=10)\n",
        "ax.set_xlabel('date')\n",
        "ax.set_ylabel('temperature [deg C]')\n",
        "\n",
        "fig.savefig('warming-stripes.png')\n",
        "fig.show()\n"
      ],
      "execution_count": 17,
      "outputs": [
        {
          "output_type": "display_data",
          "data": {
            "image/png": "[encoded data removed]",
            "text/plain": [
              "<Figure size 720x216 with 1 Axes>"
            ]
          },
          "metadata": {
            "tags": []
          }
        }
      ]
    },
    {
      "cell_type": "code",
      "metadata": {
        "id": "cbh1gJNp-cmP",
        "colab_type": "code",
        "colab": {
          "base_uri": "https://localhost:8080/",
          "height": 952
        },
        "outputId": "3bf3152b-6674-4106-8ef9-0d7f7520050a"
      },
      "source": [
        "min_temp = df2.loc[:,'value']\n",
        "min_temp"
      ],
      "execution_count": 12,
      "outputs": [
        {
          "output_type": "execute_result",
          "data": {
            "text/plain": [
              "date\n",
              "2018-01-07   -11.392857\n",
              "2018-01-14    -1.442857\n",
              "2018-01-21    -4.242857\n",
              "2018-01-28     1.857143\n",
              "2018-02-04    -1.228571\n",
              "2018-02-11    -1.742857\n",
              "2018-02-18     3.564286\n",
              "2018-02-25     6.357143\n",
              "2018-03-04     5.435714\n",
              "2018-03-11     1.264286\n",
              "2018-03-18     1.071429\n",
              "2018-03-25     2.114286\n",
              "2018-04-01     5.250000\n",
              "2018-04-08     3.771429\n",
              "2018-04-15     8.057143\n",
              "2018-04-22     6.350000\n",
              "2018-04-29    11.950000\n",
              "2018-05-06    16.500000\n",
              "2018-05-13    15.028571\n",
              "2018-05-20    15.557143\n",
              "2018-05-27    20.628571\n",
              "2018-06-03    20.442857\n",
              "2018-06-10    18.064286\n",
              "2018-06-17    18.714286\n",
              "2018-06-24    22.492857\n",
              "2018-07-01    22.892857\n",
              "2018-07-08    25.750000\n",
              "2018-07-15    23.728571\n",
              "2018-07-22    23.221429\n",
              "2018-07-29    25.021429\n",
              "2018-08-05    24.214286\n",
              "2018-08-12    25.957143\n",
              "2018-08-19    24.728571\n",
              "2018-08-26    20.907143\n",
              "2018-09-02    24.835714\n",
              "2018-09-09    24.300000\n",
              "2018-09-16    18.735714\n",
              "2018-09-23    20.914286\n",
              "2018-09-30    16.335714\n",
              "2018-10-07    17.664286\n",
              "2018-10-14    17.500000\n",
              "2018-10-21     9.400000\n",
              "2018-10-28     6.228571\n",
              "2018-11-04    10.200000\n",
              "2018-11-11     7.100000\n",
              "2018-11-18     2.457143\n",
              "2018-11-25    -0.200000\n",
              "2018-12-02     4.164286\n",
              "2018-12-09     0.792857\n",
              "2018-12-16     0.985714\n",
              "2018-12-23     4.214286\n",
              "2018-12-30     3.228571\n",
              "2019-01-06     0.000000\n",
              "Freq: W-SUN, Name: value, dtype: float64"
            ]
          },
          "metadata": {
            "tags": []
          },
          "execution_count": 12
        }
      ]
    },
    {
      "cell_type": "code",
      "metadata": {
        "id": "aQUqpvpcxONF",
        "colab_type": "code",
        "colab": {}
      },
      "source": [
        ""
      ],
      "execution_count": 0,
      "outputs": []
    }
  ]
}