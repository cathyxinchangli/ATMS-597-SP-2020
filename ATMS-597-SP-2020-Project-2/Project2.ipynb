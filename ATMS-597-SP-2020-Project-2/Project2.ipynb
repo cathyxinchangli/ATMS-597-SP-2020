{
 "cells": [
  {
   "cell_type": "markdown",
   "metadata": {
    "colab_type": "text",
    "id": "view-in-github"
   },
   "source": [
    "<a href=\"https://colab.research.google.com/github/cathyxinchangli/ATMS-597-SP-2020/blob/master/ATMS-597-SP-2020-Project-2/Project2.ipynb\" target=\"_parent\"><img src=\"https://colab.research.google.com/assets/colab-badge.svg\" alt=\"Open In Colab\"/></a>"
   ]
  },
  {
   "cell_type": "code",
   "execution_count": 1,
   "metadata": {
    "colab": {},
    "colab_type": "code",
    "id": "0evtjsXpiHG1"
   },
   "outputs": [],
   "source": [
    "import requests\n",
    "import pandas as pd\n",
    "import datetime"
   ]
  },
  {
   "cell_type": "code",
   "execution_count": 2,
   "metadata": {
    "colab": {
     "base_uri": "https://localhost:8080/",
     "height": 203
    },
    "colab_type": "code",
    "id": "yfYABhOQpHPW",
    "outputId": "b484ad5d-dbe7-48ac-d01f-d89bc2f12c8c"
   },
   "outputs": [],
   "source": [
    "def make_request(endpoint, payload=None):\n",
    "    \"\"\"\n",
    "    Make a request to a specific endpoint on the weather API\n",
    "    passing headers and optional payload.\n",
    "    \n",
    "    Parameters:\n",
    "        - endpoint: The endpoint of the API you want to \n",
    "                    make a GET request to.\n",
    "        - payload: A dictionary of data to pass along \n",
    "                   with the request.\n",
    "    \n",
    "    Returns:\n",
    "        Response object.\n",
    "    ---\n",
    "    S. Moline, 'Hands on Data Analysis with Pandas'\n",
    "    https://github.com/stefmolin/Hands-On-Data-Analysis-with-Pandas/blob/master/ch_04/0-weather_data_collection.ipynb\n",
    "    \"\"\"\n",
    "    return requests.get(\n",
    "        f'https://www.ncdc.noaa.gov/cdo-web/api/v2/{endpoint}',\n",
    "        headers={\n",
    "            'token': 'HfZphTTGbXckpmEuqevAXQZFRCTEJgkJ' # obtained by X. Li, 2/4/2020\n",
    "        },\n",
    "        params=payload\n",
    "    )\n",
    "\n",
    "def fetch_data(locationid, startdate, enddate, endpoint=\"data\", datatypeid=\"TOBS\",\n",
    "               datasetid=\"GHCND\", stationid=None, units=\"metric\", limit=1000):\n",
    "    response = make_request(\n",
    "        endpoint,\n",
    "        {\n",
    "            \"datasetid\": datasetid,\n",
    "            \"datatypeid\": datatypeid,\n",
    "            \"locationid\": locationid,\n",
    "            \"stationid\": stationid,\n",
    "            \"startdate\": startdate,\n",
    "            \"enddate\": enddate,\n",
    "            \"unit\": units,\n",
    "            \"limit\": limit,\n",
    "        })\n",
    "    response = pd.DataFrame(response.json()[\"results\"])\n",
    "    return response"
   ]
  },
  {
   "cell_type": "code",
   "execution_count": null,
   "metadata": {
    "colab": {
     "base_uri": "https://localhost:8080/",
     "height": 356
    },
    "colab_type": "code",
    "id": "qNK63xC1pQ32",
    "outputId": "d094c658-63fd-4441-8d33-961d3e9cd3a4"
   },
   "outputs": [],
   "source": [
    "fetch_data(\"CITY:US360019\", datetime.date(2018, 1, 1), datetime.date(2019, 1, 1))"
   ]
  },
  {
   "cell_type": "code",
   "execution_count": null,
   "metadata": {},
   "outputs": [],
   "source": []
  }
 ],
 "metadata": {
  "colab": {
   "include_colab_link": true,
   "name": "Project2.ipynb",
   "provenance": []
  },
  "kernelspec": {
   "display_name": "Python 3",
   "language": "python",
   "name": "python3"
  },
  "language_info": {
   "codemirror_mode": {
    "name": "ipython",
    "version": 3
   },
   "file_extension": ".py",
   "mimetype": "text/x-python",
   "name": "python",
   "nbconvert_exporter": "python",
   "pygments_lexer": "ipython3",
   "version": "3.7.6"
  }
 },
 "nbformat": 4,
 "nbformat_minor": 1
}
