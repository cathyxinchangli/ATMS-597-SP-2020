{
 "cells": [
  {
   "cell_type": "markdown",
   "metadata": {
    "colab_type": "text",
    "id": "view-in-github"
   },
   "source": [
    "<a href=\"https://colab.research.google.com/github/cathyxinchangli/ATMS-597-SP-2020/blob/master/ATMS-597-SP-2020-Project-2/Project2.ipynb\" target=\"_parent\"><img src=\"https://colab.research.google.com/assets/colab-badge.svg\" alt=\"Open In Colab\"/></a>"
   ]
  },
  {
   "cell_type": "code",
   "execution_count": 1,
   "metadata": {
    "colab": {},
    "colab_type": "code",
    "id": "0evtjsXpiHG1"
   },
   "outputs": [],
   "source": [
    "import requests\n",
    "import numpy as np\n",
    "import pandas as pd\n",
    "import datetime\n",
    "\n",
    "import matplotlib as mlp\n",
    "import matplotlib.pyplot as plt\n",
    "from matplotlib.patches import Rectangle\n",
    "from matplotlib.collections import PatchCollection\n",
    "from matplotlib.colors import ListedColormap\n",
    "import matplotlib.dates as mdates\n",
    "\n",
    "%matplotlib inline"
   ]
  },
  {
   "cell_type": "markdown",
   "metadata": {},
   "source": [
    "Two goals,\n",
    "* Return station and city information to add in the picture names\n",
    "* Loop through cities and stations"
   ]
  },
  {
   "cell_type": "code",
   "execution_count": 2,
   "metadata": {
    "colab": {
     "base_uri": "https://localhost:8080/",
     "height": 203
    },
    "colab_type": "code",
    "id": "yfYABhOQpHPW",
    "outputId": "b484ad5d-dbe7-48ac-d01f-d89bc2f12c8c"
   },
   "outputs": [],
   "source": [
    "def make_request(endpoint, payload=None):\n",
    "    \"\"\"\n",
    "    Make a request to a specific endpoint on the weather API\n",
    "    passing headers and optional payload.\n",
    "    \n",
    "    Parameters:\n",
    "        - endpoint: The endpoint of the API you want to \n",
    "                    make a GET request to.\n",
    "        - payload: A dictionary of data to pass along \n",
    "                   with the request.\n",
    "    \n",
    "    Returns:\n",
    "        Response object.\n",
    "    ---\n",
    "    S. Moline, 'Hands on Data Analysis with Pandas'\n",
    "    https://github.com/stefmolin/Hands-On-Data-Analysis-with-Pandas/blob/master/ch_04/0-weather_data_collection.ipynb\n",
    "    \"\"\"\n",
    "    return requests.get(\n",
    "        f'https://www.ncdc.noaa.gov/cdo-web/api/v2/{endpoint}',\n",
    "        headers={\n",
    "            'token': 'HfZphTTGbXckpmEuqevAXQZFRCTEJgkJ' # obtained by X. Li, 2/4/2020\n",
    "        },\n",
    "        params=payload\n",
    "    )\n",
    "\n",
    "def fetch_data(locationid, startdate, enddate, endpoint=\"data\",\n",
    "               datasetid=\"GHCND\", stationid=None, units=\"metric\", limit=1000):\n",
    "    \"\"\"\n",
    "    Simple fetch request for requesting TMIN and TMAX data from API within \n",
    "    the same year.\n",
    "\n",
    "    Parameters:\n",
    "        - datasetid: default 'GHCND',\n",
    "        - locationid\n",
    "        - stationid \n",
    "        - startdate: a datetime object\n",
    "        - enddate: a datetime object\n",
    "        - units: specify preferred units for retrieving the data\n",
    "        - limit: max. 1000 requests\n",
    "\n",
    "    Returns:\n",
    "        - DataFrame of the requested dataset\n",
    "\n",
    "    \"\"\"\n",
    "    response = make_request(\n",
    "        endpoint,\n",
    "        {\n",
    "            \"datasetid\": datasetid,\n",
    "            \"datatypeid\": [\"TMAX\", \"TMIN\"],\n",
    "            \"locationid\": locationid,\n",
    "            \"stationid\": stationid,\n",
    "            \"startdate\": startdate,\n",
    "            \"enddate\": enddate,\n",
    "            \"unit\": units,\n",
    "            \"limit\": limit,\n",
    "        })\n",
    "    response = pd.DataFrame(response.json()[\"results\"])\n",
    "    return response\n",
    "\n",
    "def loop_request(locationid, startdate, enddate, endpoint=\"data\",\n",
    "                 datasetid=\"GHCND\", stationid=None, units=\"metric\", limit=1000):\n",
    "    \"\"\"\n",
    "    Fetch TMIN and TMAX data from API over arbitrary time period without \n",
    "    running into data request limit.\n",
    "\n",
    "    Parameters:\n",
    "        - datasetid: default 'GHCND',\n",
    "        - locationid\n",
    "        - stationid: default None\n",
    "        - startdate: a datetime object\n",
    "        - enddate: a datetime object\n",
    "        - units: preferred units for retrieving the data, default 'metric'\n",
    "        - limit: max. 1000 requests\n",
    "\n",
    "    Returns:\n",
    "        - DataFrame of the requested dataset\n",
    "\n",
    "    \"\"\"\n",
    "    if startdate.year == enddate.year:\n",
    "        return fetch_data(locationid, startdate, enddate, endpoint, datasetid, \n",
    "                          stationid, units, limit)\n",
    "    else:\n",
    "        enddate_0 = datetime.date(startdate.year, 12, 31)\n",
    "        df_tmp_0 = fetch_data(locationid, startdate, enddate_0, endpoint, datasetid, \n",
    "                            stationid, units, limit)\n",
    "        for year in range(startdate.year + 1, enddate.year):\n",
    "            startdate_tmp = datetime.date(year, 1, 1)\n",
    "            enddate_tmp = datetime.date(year + 1, 1, 1)\n",
    "            df_tmp = fetch_data(locationid, startdate_tmp, enddate_tmp, endpoint, datasetid, \n",
    "                                stationid, units, limit)\n",
    "            df_tmp_0 = pd.concat([df_tmp_0, df_tmp])\n",
    "        startdate_1 = datetime.date(enddate.year, 1, 1)\n",
    "        df_tmp_1 = fetch_data(locationid, startdate_1, enddate, endpoint, datasetid, \n",
    "                                stationid, units, limit)\n",
    "        df_tmp_0 = pd.concat([df_tmp_0, df_tmp_1])\n",
    "        return df_tmp_0\n",
    "        \n",
    "def clean_up(datain):\n",
    "    '''\n",
    "    Clean up missing values, adjust the units of the values, covert datetime \n",
    "    format to pandas-datetime and re-index using datetime.\n",
    "\n",
    "    Parameters:\n",
    "        - datain: the DataFrame to perform the function on\n",
    "    \n",
    "    Returns:\n",
    "        cleaned up DataFrame\n",
    "    ---\n",
    "    Adapted from S. Nesbitt, Module 2, ATMS 597 SP 2020\n",
    "    '''\n",
    "    # clean up missing values\n",
    "    datain[\"value\"][(np.abs(datain[\"value\"])==9999)] = np.nan\n",
    "    datain.dropna(inplace=True)\n",
    "    # adjust unit from 10th of degree C to degree C\n",
    "    datain[\"value\"] = datain[\"value\"].astype(\"float\") / 10.\n",
    "    # convert datetime format and re-index\n",
    "    datain[\"date\"] = pd.to_datetime(datain[\"date\"], infer_datetime_format=True) # this is hard coded\n",
    "    datain.index = datain[\"date\"]\n",
    "    return datain"
   ]
  },
  {
   "cell_type": "code",
   "execution_count": null,
   "metadata": {},
   "outputs": [],
   "source": [
    "def list_stations(locationid, endpoint=\"stations\",\n",
    "                  datasetid=\"GHCND\", units=\"metric\", limit=1000):"
   ]
  },
  {
   "cell_type": "code",
   "execution_count": null,
   "metadata": {},
   "outputs": [],
   "source": []
  },
  {
   "cell_type": "code",
   "execution_count": 5,
   "metadata": {
    "colab": {
     "base_uri": "https://localhost:8080/",
     "height": 356
    },
    "colab_type": "code",
    "id": "qNK63xC1pQ32",
    "outputId": "d094c658-63fd-4441-8d33-961d3e9cd3a4"
   },
   "outputs": [
    {
     "ename": "KeyError",
     "evalue": "'results'",
     "output_type": "error",
     "traceback": [
      "\u001b[1;31m---------------------------------------------------------------------------\u001b[0m",
      "\u001b[1;31mKeyError\u001b[0m                                  Traceback (most recent call last)",
      "\u001b[1;32m<ipython-input-5-8500898ce5b9>\u001b[0m in \u001b[0;36m<module>\u001b[1;34m\u001b[0m\n\u001b[1;32m----> 1\u001b[1;33m \u001b[0mdf\u001b[0m \u001b[1;33m=\u001b[0m \u001b[0mloop_request\u001b[0m\u001b[1;33m(\u001b[0m\u001b[0mlocationid\u001b[0m\u001b[1;33m=\u001b[0m\u001b[1;34m\"CITY:US360019\"\u001b[0m\u001b[1;33m,\u001b[0m \u001b[0mstartdate\u001b[0m\u001b[1;33m=\u001b[0m\u001b[0mdatetime\u001b[0m\u001b[1;33m.\u001b[0m\u001b[0mdate\u001b[0m\u001b[1;33m(\u001b[0m\u001b[1;36m1998\u001b[0m\u001b[1;33m,\u001b[0m \u001b[1;36m12\u001b[0m\u001b[1;33m,\u001b[0m \u001b[1;36m1\u001b[0m\u001b[1;33m)\u001b[0m\u001b[1;33m,\u001b[0m \u001b[0menddate\u001b[0m\u001b[1;33m=\u001b[0m\u001b[0mdatetime\u001b[0m\u001b[1;33m.\u001b[0m\u001b[0mdate\u001b[0m\u001b[1;33m(\u001b[0m\u001b[1;36m1999\u001b[0m\u001b[1;33m,\u001b[0m \u001b[1;36m2\u001b[0m\u001b[1;33m,\u001b[0m \u001b[1;36m1\u001b[0m\u001b[1;33m)\u001b[0m\u001b[1;33m,\u001b[0m \u001b[0mstationid\u001b[0m\u001b[1;33m=\u001b[0m\u001b[1;34m\"GHCND:USC00280907\"\u001b[0m\u001b[1;33m)\u001b[0m\u001b[1;33m\u001b[0m\u001b[1;33m\u001b[0m\u001b[0m\n\u001b[0m\u001b[0;32m      2\u001b[0m \u001b[0mdf\u001b[0m \u001b[1;33m=\u001b[0m \u001b[0mclean_up\u001b[0m\u001b[1;33m(\u001b[0m\u001b[0mdf\u001b[0m\u001b[1;33m)\u001b[0m\u001b[1;33m\u001b[0m\u001b[1;33m\u001b[0m\u001b[0m\n\u001b[0;32m      3\u001b[0m \u001b[0mdisplay\u001b[0m\u001b[1;33m(\u001b[0m\u001b[0mdf\u001b[0m\u001b[1;33m.\u001b[0m\u001b[0mdescribe\u001b[0m\u001b[1;33m(\u001b[0m\u001b[1;33m)\u001b[0m\u001b[1;33m,\u001b[0m \u001b[0mdf\u001b[0m\u001b[1;33m.\u001b[0m\u001b[0mhead\u001b[0m\u001b[1;33m(\u001b[0m\u001b[1;33m)\u001b[0m\u001b[1;33m,\u001b[0m \u001b[0mdf\u001b[0m\u001b[1;33m.\u001b[0m\u001b[0mtail\u001b[0m\u001b[1;33m(\u001b[0m\u001b[1;33m)\u001b[0m\u001b[1;33m)\u001b[0m\u001b[1;33m\u001b[0m\u001b[1;33m\u001b[0m\u001b[0m\n",
      "\u001b[1;32m<ipython-input-2-38820393bf2b>\u001b[0m in \u001b[0;36mloop_request\u001b[1;34m(locationid, startdate, enddate, endpoint, datasetid, stationid, units, limit)\u001b[0m\n\u001b[0;32m     83\u001b[0m         \u001b[0menddate_0\u001b[0m \u001b[1;33m=\u001b[0m \u001b[0mdatetime\u001b[0m\u001b[1;33m.\u001b[0m\u001b[0mdate\u001b[0m\u001b[1;33m(\u001b[0m\u001b[0mstartdate\u001b[0m\u001b[1;33m.\u001b[0m\u001b[0myear\u001b[0m\u001b[1;33m,\u001b[0m \u001b[1;36m12\u001b[0m\u001b[1;33m,\u001b[0m \u001b[1;36m31\u001b[0m\u001b[1;33m)\u001b[0m\u001b[1;33m\u001b[0m\u001b[1;33m\u001b[0m\u001b[0m\n\u001b[0;32m     84\u001b[0m         df_tmp_0 = fetch_data(locationid, startdate, enddate_0, endpoint, datasetid, \n\u001b[1;32m---> 85\u001b[1;33m                             stationid, units, limit)\n\u001b[0m\u001b[0;32m     86\u001b[0m         \u001b[1;32mfor\u001b[0m \u001b[0myear\u001b[0m \u001b[1;32min\u001b[0m \u001b[0mrange\u001b[0m\u001b[1;33m(\u001b[0m\u001b[0mstartdate\u001b[0m\u001b[1;33m.\u001b[0m\u001b[0myear\u001b[0m \u001b[1;33m+\u001b[0m \u001b[1;36m1\u001b[0m\u001b[1;33m,\u001b[0m \u001b[0menddate\u001b[0m\u001b[1;33m.\u001b[0m\u001b[0myear\u001b[0m\u001b[1;33m)\u001b[0m\u001b[1;33m:\u001b[0m\u001b[1;33m\u001b[0m\u001b[1;33m\u001b[0m\u001b[0m\n\u001b[0;32m     87\u001b[0m             \u001b[0mstartdate_tmp\u001b[0m \u001b[1;33m=\u001b[0m \u001b[0mdatetime\u001b[0m\u001b[1;33m.\u001b[0m\u001b[0mdate\u001b[0m\u001b[1;33m(\u001b[0m\u001b[0myear\u001b[0m\u001b[1;33m,\u001b[0m \u001b[1;36m1\u001b[0m\u001b[1;33m,\u001b[0m \u001b[1;36m1\u001b[0m\u001b[1;33m)\u001b[0m\u001b[1;33m\u001b[0m\u001b[1;33m\u001b[0m\u001b[0m\n",
      "\u001b[1;32m<ipython-input-2-38820393bf2b>\u001b[0m in \u001b[0;36mfetch_data\u001b[1;34m(locationid, startdate, enddate, endpoint, datasetid, stationid, units, limit)\u001b[0m\n\u001b[0;32m     55\u001b[0m             \u001b[1;34m\"limit\"\u001b[0m\u001b[1;33m:\u001b[0m \u001b[0mlimit\u001b[0m\u001b[1;33m,\u001b[0m\u001b[1;33m\u001b[0m\u001b[1;33m\u001b[0m\u001b[0m\n\u001b[0;32m     56\u001b[0m         })\n\u001b[1;32m---> 57\u001b[1;33m     \u001b[0mresponse\u001b[0m \u001b[1;33m=\u001b[0m \u001b[0mpd\u001b[0m\u001b[1;33m.\u001b[0m\u001b[0mDataFrame\u001b[0m\u001b[1;33m(\u001b[0m\u001b[0mresponse\u001b[0m\u001b[1;33m.\u001b[0m\u001b[0mjson\u001b[0m\u001b[1;33m(\u001b[0m\u001b[1;33m)\u001b[0m\u001b[1;33m[\u001b[0m\u001b[1;34m\"results\"\u001b[0m\u001b[1;33m]\u001b[0m\u001b[1;33m)\u001b[0m\u001b[1;33m\u001b[0m\u001b[1;33m\u001b[0m\u001b[0m\n\u001b[0m\u001b[0;32m     58\u001b[0m     \u001b[1;32mreturn\u001b[0m \u001b[0mresponse\u001b[0m\u001b[1;33m\u001b[0m\u001b[1;33m\u001b[0m\u001b[0m\n\u001b[0;32m     59\u001b[0m \u001b[1;33m\u001b[0m\u001b[0m\n",
      "\u001b[1;31mKeyError\u001b[0m: 'results'"
     ]
    }
   ],
   "source": [
    "df = loop_request(locationid=\"CITY:US360019\", startdate=datetime.date(1998, 12, 1), enddate=datetime.date(1999, 2, 1), stationid=\"GHCND:USC00280907\")\n",
    "df = clean_up(df)\n",
    "display(df.describe(), df.head(), df.tail())"
   ]
  },
  {
   "cell_type": "code",
   "execution_count": null,
   "metadata": {},
   "outputs": [],
   "source": []
  }
 ],
 "metadata": {
  "colab": {
   "include_colab_link": true,
   "name": "Project2.ipynb",
   "provenance": []
  },
  "kernelspec": {
   "display_name": "Python 3",
   "language": "python",
   "name": "python3"
  },
  "language_info": {
   "codemirror_mode": {
    "name": "ipython",
    "version": 3
   },
   "file_extension": ".py",
   "mimetype": "text/x-python",
   "name": "python",
   "nbconvert_exporter": "python",
   "pygments_lexer": "ipython3",
   "version": "3.7.6"
  }
 },
 "nbformat": 4,
 "nbformat_minor": 1
}
