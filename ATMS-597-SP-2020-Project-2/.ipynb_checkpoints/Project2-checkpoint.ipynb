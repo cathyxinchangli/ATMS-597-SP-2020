{
 "cells": [
  {
   "cell_type": "markdown",
   "metadata": {
    "colab_type": "text",
    "id": "view-in-github"
   },
   "source": [
    "<a href=\"https://colab.research.google.com/github/cathyxinchangli/ATMS-597-SP-2020/blob/master/ATMS-597-SP-2020-Project-2/Project2.ipynb\" target=\"_parent\"><img src=\"https://colab.research.google.com/assets/colab-badge.svg\" alt=\"Open In Colab\"/></a>"
   ]
  },
  {
   "cell_type": "code",
   "execution_count": 1,
   "metadata": {
    "colab": {},
    "colab_type": "code",
    "id": "0evtjsXpiHG1"
   },
   "outputs": [],
   "source": [
    "import requests\n",
    "import pandas as pd\n",
    "import datetime"
   ]
  },
  {
   "cell_type": "code",
   "execution_count": 2,
   "metadata": {
    "colab": {
     "base_uri": "https://localhost:8080/",
     "height": 203
    },
    "colab_type": "code",
    "id": "yfYABhOQpHPW",
    "outputId": "b484ad5d-dbe7-48ac-d01f-d89bc2f12c8c"
   },
   "outputs": [],
   "source": [
    "def make_request(endpoint, payload=None):\n",
    "    \"\"\"\n",
    "    Make a request to a specific endpoint on the weather API\n",
    "    passing headers and optional payload.\n",
    "    \n",
    "    Parameters:\n",
    "        - endpoint: The endpoint of the API you want to \n",
    "                    make a GET request to.\n",
    "        - payload: A dictionary of data to pass along \n",
    "                   with the request.\n",
    "    \n",
    "    Returns:\n",
    "        Response object.\n",
    "    ---\n",
    "    S. Moline, 'Hands on Data Analysis with Pandas'\n",
    "    https://github.com/stefmolin/Hands-On-Data-Analysis-with-Pandas/blob/master/ch_04/0-weather_data_collection.ipynb\n",
    "    \"\"\"\n",
    "    return requests.get(\n",
    "        f'https://www.ncdc.noaa.gov/cdo-web/api/v2/{endpoint}',\n",
    "        headers={\n",
    "            'token': 'HfZphTTGbXckpmEuqevAXQZFRCTEJgkJ' # obtained by X. Li, 2/4/2020\n",
    "        },\n",
    "        params=payload\n",
    "    )\n",
    "\n",
    "def fetch_data(locationid, startdate, enddate, endpoint=\"data\", datatypeid=\"TOBS\",\n",
    "               datasetid=\"GHCND\", stationid=None, units=\"metric\", limit=1000):\n",
    "    response = make_request(\n",
    "        endpoint,\n",
    "        {\n",
    "            \"datasetid\": datasetid,\n",
    "            \"datatypeid\": datatypeid,\n",
    "            \"locationid\": locationid,\n",
    "            \"stationid\": stationid,\n",
    "            \"startdate\": startdate,\n",
    "            \"enddate\": enddate,\n",
    "            \"unit\": units,\n",
    "            \"limit\": limit,\n",
    "        })\n",
    "    response = pd.DataFrame(response.json()[\"results\"])\n",
    "    return response"
   ]
  },
  {
   "cell_type": "code",
   "execution_count": 3,
   "metadata": {
    "colab": {
     "base_uri": "https://localhost:8080/",
     "height": 356
    },
    "colab_type": "code",
    "id": "qNK63xC1pQ32",
    "outputId": "d094c658-63fd-4441-8d33-961d3e9cd3a4"
   },
   "outputs": [
    {
     "data": {
      "text/html": [
       "<div>\n",
       "<style scoped>\n",
       "    .dataframe tbody tr th:only-of-type {\n",
       "        vertical-align: middle;\n",
       "    }\n",
       "\n",
       "    .dataframe tbody tr th {\n",
       "        vertical-align: top;\n",
       "    }\n",
       "\n",
       "    .dataframe thead th {\n",
       "        text-align: right;\n",
       "    }\n",
       "</style>\n",
       "<table border=\"1\" class=\"dataframe\">\n",
       "  <thead>\n",
       "    <tr style=\"text-align: right;\">\n",
       "      <th></th>\n",
       "      <th>date</th>\n",
       "      <th>datatype</th>\n",
       "      <th>station</th>\n",
       "      <th>attributes</th>\n",
       "      <th>value</th>\n",
       "    </tr>\n",
       "  </thead>\n",
       "  <tbody>\n",
       "    <tr>\n",
       "      <th>0</th>\n",
       "      <td>2018-01-01T00:00:00</td>\n",
       "      <td>TOBS</td>\n",
       "      <td>GHCND:USC00280907</td>\n",
       "      <td>,,7,0700</td>\n",
       "      <td>-156</td>\n",
       "    </tr>\n",
       "    <tr>\n",
       "      <th>1</th>\n",
       "      <td>2018-01-01T00:00:00</td>\n",
       "      <td>TOBS</td>\n",
       "      <td>GHCND:USC00283704</td>\n",
       "      <td>,,7,0700</td>\n",
       "      <td>-150</td>\n",
       "    </tr>\n",
       "    <tr>\n",
       "      <th>2</th>\n",
       "      <td>2018-01-01T00:00:00</td>\n",
       "      <td>TOBS</td>\n",
       "      <td>GHCND:USC00301309</td>\n",
       "      <td>,,7,0700</td>\n",
       "      <td>-144</td>\n",
       "    </tr>\n",
       "    <tr>\n",
       "      <th>3</th>\n",
       "      <td>2018-01-01T00:00:00</td>\n",
       "      <td>TOBS</td>\n",
       "      <td>GHCND:USC00308577</td>\n",
       "      <td>,,7,0800</td>\n",
       "      <td>-144</td>\n",
       "    </tr>\n",
       "    <tr>\n",
       "      <th>4</th>\n",
       "      <td>2018-01-02T00:00:00</td>\n",
       "      <td>TOBS</td>\n",
       "      <td>GHCND:USC00280907</td>\n",
       "      <td>,,7,0700</td>\n",
       "      <td>-122</td>\n",
       "    </tr>\n",
       "    <tr>\n",
       "      <th>...</th>\n",
       "      <td>...</td>\n",
       "      <td>...</td>\n",
       "      <td>...</td>\n",
       "      <td>...</td>\n",
       "      <td>...</td>\n",
       "    </tr>\n",
       "    <tr>\n",
       "      <th>995</th>\n",
       "      <td>2018-08-05T00:00:00</td>\n",
       "      <td>TOBS</td>\n",
       "      <td>GHCND:USC00280907</td>\n",
       "      <td>,,7,0700</td>\n",
       "      <td>244</td>\n",
       "    </tr>\n",
       "    <tr>\n",
       "      <th>996</th>\n",
       "      <td>2018-08-05T00:00:00</td>\n",
       "      <td>TOBS</td>\n",
       "      <td>GHCND:USC00283704</td>\n",
       "      <td>,,7,0700</td>\n",
       "      <td>267</td>\n",
       "    </tr>\n",
       "    <tr>\n",
       "      <th>997</th>\n",
       "      <td>2018-08-05T00:00:00</td>\n",
       "      <td>TOBS</td>\n",
       "      <td>GHCND:USC00301309</td>\n",
       "      <td>,,7,0700</td>\n",
       "      <td>211</td>\n",
       "    </tr>\n",
       "    <tr>\n",
       "      <th>998</th>\n",
       "      <td>2018-08-06T00:00:00</td>\n",
       "      <td>TOBS</td>\n",
       "      <td>GHCND:USC00280907</td>\n",
       "      <td>,,7,0700</td>\n",
       "      <td>222</td>\n",
       "    </tr>\n",
       "    <tr>\n",
       "      <th>999</th>\n",
       "      <td>2018-08-06T00:00:00</td>\n",
       "      <td>TOBS</td>\n",
       "      <td>GHCND:USC00281335</td>\n",
       "      <td>,,7,0700</td>\n",
       "      <td>233</td>\n",
       "    </tr>\n",
       "  </tbody>\n",
       "</table>\n",
       "<p>1000 rows × 5 columns</p>\n",
       "</div>"
      ],
      "text/plain": [
       "                    date datatype            station attributes  value\n",
       "0    2018-01-01T00:00:00     TOBS  GHCND:USC00280907   ,,7,0700   -156\n",
       "1    2018-01-01T00:00:00     TOBS  GHCND:USC00283704   ,,7,0700   -150\n",
       "2    2018-01-01T00:00:00     TOBS  GHCND:USC00301309   ,,7,0700   -144\n",
       "3    2018-01-01T00:00:00     TOBS  GHCND:USC00308577   ,,7,0800   -144\n",
       "4    2018-01-02T00:00:00     TOBS  GHCND:USC00280907   ,,7,0700   -122\n",
       "..                   ...      ...                ...        ...    ...\n",
       "995  2018-08-05T00:00:00     TOBS  GHCND:USC00280907   ,,7,0700    244\n",
       "996  2018-08-05T00:00:00     TOBS  GHCND:USC00283704   ,,7,0700    267\n",
       "997  2018-08-05T00:00:00     TOBS  GHCND:USC00301309   ,,7,0700    211\n",
       "998  2018-08-06T00:00:00     TOBS  GHCND:USC00280907   ,,7,0700    222\n",
       "999  2018-08-06T00:00:00     TOBS  GHCND:USC00281335   ,,7,0700    233\n",
       "\n",
       "[1000 rows x 5 columns]"
      ]
     },
     "execution_count": 3,
     "metadata": {},
     "output_type": "execute_result"
    }
   ],
   "source": [
    "fetch_data(\"CITY:US360019\", datetime.date(2018, 1, 1), datetime.date(2019, 1, 1))"
   ]
  },
  {
   "cell_type": "code",
   "execution_count": null,
   "metadata": {
    "colab": {},
    "colab_type": "code",
    "id": "8tqgLlqSct2E"
   },
   "outputs": [],
   "source": []
  }
 ],
 "metadata": {
  "colab": {
   "include_colab_link": true,
   "name": "Project2.ipynb",
   "provenance": []
  },
  "kernelspec": {
   "display_name": "Python 3",
   "language": "python",
   "name": "python3"
  },
  "language_info": {
   "codemirror_mode": {
    "name": "ipython",
    "version": 3
   },
   "file_extension": ".py",
   "mimetype": "text/x-python",
   "name": "python",
   "nbconvert_exporter": "python",
   "pygments_lexer": "ipython3",
   "version": "3.7.6"
  }
 },
 "nbformat": 4,
 "nbformat_minor": 1
}
