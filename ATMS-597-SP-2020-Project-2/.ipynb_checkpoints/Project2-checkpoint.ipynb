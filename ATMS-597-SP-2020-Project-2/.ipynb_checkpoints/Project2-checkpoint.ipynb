{
 "cells": [
  {
   "cell_type": "markdown",
   "metadata": {
    "colab_type": "text",
    "id": "view-in-github"
   },
   "source": [
    "<a href=\"https://colab.research.google.com/github/cathyxinchangli/ATMS-597-SP-2020/blob/master/ATMS-597-SP-2020-Project-2/Project2.ipynb\" target=\"_parent\"><img src=\"https://colab.research.google.com/assets/colab-badge.svg\" alt=\"Open In Colab\"/></a>"
   ]
  },
  {
   "cell_type": "code",
   "execution_count": 1,
   "metadata": {
    "colab": {},
    "colab_type": "code",
    "id": "0evtjsXpiHG1"
   },
   "outputs": [],
   "source": [
    "import requests\n",
    "import numpy as np\n",
    "import pandas as pd\n",
    "import datetime\n",
    "\n",
    "import matplotlib as mlp\n",
    "import matplotlib.pyplot as plt\n",
    "from matplotlib.patches import Rectangle\n",
    "from matplotlib.collections import PatchCollection\n",
    "from matplotlib.colors import ListedColormap\n",
    "import matplotlib.dates as mdates\n",
    "\n",
    "%matplotlib inline"
   ]
  },
  {
   "cell_type": "code",
   "execution_count": 2,
   "metadata": {
    "colab": {
     "base_uri": "https://localhost:8080/",
     "height": 203
    },
    "colab_type": "code",
    "id": "yfYABhOQpHPW",
    "outputId": "b484ad5d-dbe7-48ac-d01f-d89bc2f12c8c"
   },
   "outputs": [],
   "source": [
    "def make_request(endpoint, payload=None):\n",
    "    \"\"\"\n",
    "    Make a request to a specific endpoint on the weather API\n",
    "    passing headers and optional payload.\n",
    "    \n",
    "    Parameters:\n",
    "        - endpoint: The endpoint of the API you want to \n",
    "                    make a GET request to.\n",
    "        - payload: A dictionary of data to pass along \n",
    "                   with the request.\n",
    "    \n",
    "    Returns:\n",
    "        Response object.\n",
    "    ---\n",
    "    S. Moline, 'Hands on Data Analysis with Pandas'\n",
    "    https://github.com/stefmolin/Hands-On-Data-Analysis-with-Pandas/blob/master/ch_04/0-weather_data_collection.ipynb\n",
    "    \"\"\"\n",
    "    return requests.get(\n",
    "        f'https://www.ncdc.noaa.gov/cdo-web/api/v2/{endpoint}',\n",
    "        headers={\n",
    "            'token': 'HfZphTTGbXckpmEuqevAXQZFRCTEJgkJ' # obtained by X. Li, 2/4/2020\n",
    "        },\n",
    "        params=payload\n",
    "    )\n",
    "\n",
    "def fetch_data(locationid, startdate, enddate, endpoint=\"data\",\n",
    "               datasetid=\"GHCND\", stationid=None, units=\"metric\", limit=100):\n",
    "    response = make_request(\n",
    "        endpoint,\n",
    "        {\n",
    "            \"datasetid\": datasetid,\n",
    "            \"datatypeid\": [\"TMAX\", \"TMIN\"],\n",
    "            \"locationid\": locationid,\n",
    "            \"stationid\": stationid,\n",
    "            \"startdate\": startdate,\n",
    "            \"enddate\": enddate,\n",
    "            \"unit\": units,\n",
    "            \"limit\": limit,\n",
    "        })\n",
    "    response = pd.DataFrame(response.json()[\"results\"])\n",
    "    return response\n",
    "\n",
    "def clean_up(datain, key):\n",
    "    '''\n",
    "    S. Nesbitt\n",
    "    '''\n",
    "    datain[key][(np.abs(datain[key])==9999)] = None\n",
    "    datain[key] = datain[key].astype(\"float\") / 10.\n",
    "    datain[\"date\"] = pd.to_datetime(df[\"date\"], infer_datetime_format=True)\n",
    "    datain.index = datain[\"date\"]\n",
    "    return datain\n",
    "    "
   ]
  },
  {
   "cell_type": "code",
   "execution_count": 3,
   "metadata": {
    "colab": {
     "base_uri": "https://localhost:8080/",
     "height": 356
    },
    "colab_type": "code",
    "id": "qNK63xC1pQ32",
    "outputId": "d094c658-63fd-4441-8d33-961d3e9cd3a4"
   },
   "outputs": [
    {
     "name": "stderr",
     "output_type": "stream",
     "text": [
      "C:\\Users\\YangLu\\Anaconda3\\envs\\gpu\\lib\\site-packages\\ipykernel_launcher.py:47: SettingWithCopyWarning: \n",
      "A value is trying to be set on a copy of a slice from a DataFrame\n",
      "\n",
      "See the caveats in the documentation: https://pandas.pydata.org/pandas-docs/stable/user_guide/indexing.html#returning-a-view-versus-a-copy\n"
     ]
    },
    {
     "data": {
      "text/html": [
       "<div>\n",
       "<style scoped>\n",
       "    .dataframe tbody tr th:only-of-type {\n",
       "        vertical-align: middle;\n",
       "    }\n",
       "\n",
       "    .dataframe tbody tr th {\n",
       "        vertical-align: top;\n",
       "    }\n",
       "\n",
       "    .dataframe thead th {\n",
       "        text-align: right;\n",
       "    }\n",
       "</style>\n",
       "<table border=\"1\" class=\"dataframe\">\n",
       "  <thead>\n",
       "    <tr style=\"text-align: right;\">\n",
       "      <th></th>\n",
       "      <th>date</th>\n",
       "      <th>datatype</th>\n",
       "      <th>station</th>\n",
       "      <th>attributes</th>\n",
       "      <th>value</th>\n",
       "    </tr>\n",
       "    <tr>\n",
       "      <th>date</th>\n",
       "      <th></th>\n",
       "      <th></th>\n",
       "      <th></th>\n",
       "      <th></th>\n",
       "      <th></th>\n",
       "    </tr>\n",
       "  </thead>\n",
       "  <tbody>\n",
       "    <tr>\n",
       "      <th>2017-01-01</th>\n",
       "      <td>2017-01-01</td>\n",
       "      <td>TMAX</td>\n",
       "      <td>GHCND:USC00280907</td>\n",
       "      <td>,,7,0700</td>\n",
       "      <td>5.6</td>\n",
       "    </tr>\n",
       "    <tr>\n",
       "      <th>2017-01-01</th>\n",
       "      <td>2017-01-01</td>\n",
       "      <td>TMIN</td>\n",
       "      <td>GHCND:USC00280907</td>\n",
       "      <td>,,7,0700</td>\n",
       "      <td>-2.8</td>\n",
       "    </tr>\n",
       "    <tr>\n",
       "      <th>2017-01-01</th>\n",
       "      <td>2017-01-01</td>\n",
       "      <td>TMAX</td>\n",
       "      <td>GHCND:USC00281335</td>\n",
       "      <td>,,7,0700</td>\n",
       "      <td>10.0</td>\n",
       "    </tr>\n",
       "    <tr>\n",
       "      <th>2017-01-01</th>\n",
       "      <td>2017-01-01</td>\n",
       "      <td>TMIN</td>\n",
       "      <td>GHCND:USC00281335</td>\n",
       "      <td>,,7,0700</td>\n",
       "      <td>-2.2</td>\n",
       "    </tr>\n",
       "    <tr>\n",
       "      <th>2017-01-01</th>\n",
       "      <td>2017-01-01</td>\n",
       "      <td>TMAX</td>\n",
       "      <td>GHCND:USC00283704</td>\n",
       "      <td>,,7,0700</td>\n",
       "      <td>6.7</td>\n",
       "    </tr>\n",
       "  </tbody>\n",
       "</table>\n",
       "</div>"
      ],
      "text/plain": [
       "                 date datatype            station attributes  value\n",
       "date                                                               \n",
       "2017-01-01 2017-01-01     TMAX  GHCND:USC00280907   ,,7,0700    5.6\n",
       "2017-01-01 2017-01-01     TMIN  GHCND:USC00280907   ,,7,0700   -2.8\n",
       "2017-01-01 2017-01-01     TMAX  GHCND:USC00281335   ,,7,0700   10.0\n",
       "2017-01-01 2017-01-01     TMIN  GHCND:USC00281335   ,,7,0700   -2.2\n",
       "2017-01-01 2017-01-01     TMAX  GHCND:USC00283704   ,,7,0700    6.7"
      ]
     },
     "execution_count": 3,
     "metadata": {},
     "output_type": "execute_result"
    }
   ],
   "source": [
    "df = fetch_data(\"CITY:US360019\", datetime.date(2017, 1, 1), datetime.date(2017, 4, 1))\n",
    "df = clean_up(df, \"value\")\n",
    "df.describe()\n",
    "df.head()"
   ]
  },
  {
   "cell_type": "code",
   "execution_count": 4,
   "metadata": {},
   "outputs": [],
   "source": [
    "def stripe_plot(df, freq=\"W\"):\n",
    "    df_mean = df.resample(freq).mean()\n",
    "    if freq == \"W\":\n",
    "        date_interval = 7\n",
    "    \n",
    "    temp_min = df_mean.loc[:, \"value\"].min()\n",
    "    temp_max = df_mean.loc[:, \"value\"].max()\n",
    "    buffer = 1.\n",
    "    \n",
    "    cmap = ListedColormap([\n",
    "        '#08306b', '#08519c', '#2171b5', '#4292c6',\n",
    "        '#6baed6', '#9ecae1', '#c6dbef', '#deebf7',\n",
    "        '#fee0d2', '#fcbba1', '#fc9272', '#fb6a4a',\n",
    "        '#ef3b2c', '#cb181d', '#a50f15', '#67000d',\n",
    "    ])\n",
    "    fig = plt.figure(figsize=(12, 5))\n",
    "    ax = fig.add_axes([0.1, 0.12, 0.9, 0.88])\n",
    "    date_str_list = ['{}'.format(d) for d in df['date'][0:730:2]]\n",
    "    date_corrected = mdates.datestr2num(date_str_list)\n",
    "\n",
    "    col = PatchCollection([\n",
    "        Rectangle((y, min_temp-buffer), 7, temp_delta+2*buffer) # need to change 7 to other values when resampled at other frequencies\n",
    "        for y in date_corrected.astype(int)[::7]\n",
    "    ])"
   ]
  },
  {
   "cell_type": "code",
   "execution_count": null,
   "metadata": {},
   "outputs": [],
   "source": []
  }
 ],
 "metadata": {
  "colab": {
   "include_colab_link": true,
   "name": "Project2.ipynb",
   "provenance": []
  },
  "kernelspec": {
   "display_name": "Python 3",
   "language": "python",
   "name": "python3"
  },
  "language_info": {
   "codemirror_mode": {
    "name": "ipython",
    "version": 3
   },
   "file_extension": ".py",
   "mimetype": "text/x-python",
   "name": "python",
   "nbconvert_exporter": "python",
   "pygments_lexer": "ipython3",
   "version": "3.7.6"
  }
 },
 "nbformat": 4,
 "nbformat_minor": 1
}
